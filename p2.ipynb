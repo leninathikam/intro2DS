{
  "cells": [
    {
      "cell_type": "markdown",
      "metadata": {
        "id": "view-in-github",
        "colab_type": "text"
      },
      "source": [
        "<a href=\"https://colab.research.google.com/github/leninathikam/intro2DS/blob/main/p2.ipynb\" target=\"_parent\"><img src=\"https://colab.research.google.com/assets/colab-badge.svg\" alt=\"Open In Colab\"/></a>"
      ]
    },
    {
      "cell_type": "markdown",
      "id": "37460e08",
      "metadata": {
        "id": "37460e08"
      },
      "source": [
        "# P2 - Statistics + Visualization\n",
        "\n",
        "\n",
        "This project is intended to give you experience with statistics and working with a large data set.\n",
        "\n",
        "\n",
        "\n"
      ]
    },
    {
      "cell_type": "markdown",
      "id": "78278480",
      "metadata": {
        "id": "78278480"
      },
      "source": [
        "## Project Setup\n",
        "\n",
        "You should use the following modules in this assignment and not need any additional modules."
      ]
    },
    {
      "cell_type": "code",
      "execution_count": 2,
      "id": "c24795f9",
      "metadata": {
        "id": "c24795f9",
        "tags": []
      },
      "outputs": [],
      "source": [
        "import pandas as pd\n",
        "import numpy as np\n",
        "import matplotlib.pyplot as plt\n",
        "%matplotlib inline\n",
        "import seaborn as sns\n",
        "import datetime\n",
        "import os\n",
        "import re\n",
        "import platform\n",
        "import sys\n",
        "import importlib\n",
        "from packaging.version import Version, parse"
      ]
    },
    {
      "cell_type": "markdown",
      "id": "c4f12da6",
      "metadata": {
        "id": "c4f12da6"
      },
      "source": [
        "# Flight Delays\n",
        "\n",
        "Suppose the Houghton County Airport (CMX) is ready to renew its passenger airplane contract.  Airport officials and interested passengers would like to select an airline and connecting city that has reliable service.  *Currently, CMX is being served by United Airlines through Chicago-O'hare (ORD); it has been served by Delta in the past with connections to Minneapolis-St. Paul (MSP).*\n",
        "\n",
        "In order to make an informed decision, you have been tasked to look at flight delay statistics for two potential connector airports:\n",
        "\n",
        "* Chicago - O'hare (ORD)\n",
        "* Detroit (DTW)\n",
        "\n",
        "The data you are provided comes from the US Department of Transportation's [Bureau of Transportation Statistics (BTS)](https://www.bts.gov).  In particular, it comes from the Reporting Carrier On-Time Performance data tables:  \n",
        "https://www.transtats.bts.gov/TableInfo.asp?gnoyr_VQ=FGJ&QO_fu146_anzr=b0-gvzr&V0s1_b0yB=D\n",
        "\n",
        "Information on the variables can be found in the Field Information:  \n",
        "https://www.transtats.bts.gov/Fields.asp?gnoyr_VQ=FGJ\n",
        "\n",
        "\n",
        "The data is structured with the following elements:\n",
        "\n",
        "* \"YEAR\"\n",
        "* \"MONTH\"\n",
        "* \"DAY_OF_MONTH\"\n",
        "* \"OP_UNIQUE_CARRIER\" - Unique Carrier Code\n",
        "* \"TAIL_NUM\" - Tail number\n",
        "* \"OP_CARRIER_FL_NUM\" - Flight number\n",
        "* \"ORIGIN\" - Origin Airport code\n",
        "* \"DEST\" - Destination Airport code\n",
        "* \"CRS_DEP_TIME\" - Computer Reservation System Departure Time (local time: hhmm)\n",
        "* \"DEP_TIME\" - Actual Departure Time (local time: hhmm)\n",
        "* \"DEP_NEXT_DAY\" - the flight departed on the: (scheduled day = 0), (next day = 1), (following day = 2), or (day before  = -1)\n",
        "* \"CRS_ARR_TIME\" - Computer Reservation System Arrival Time (local time: hhmm)\n",
        "* \"ARR_TIME\" - Actual Arrival Time\n",
        "* \"ARR_NEXT_DAY\" - the flight arrived on the: (scheduled day = 0), (next day = 1), (following day = 2), or (day before  = -1)\n",
        "* \"CANCELLED\" - Cancelled Flight Indicator (1 = Yes)\n",
        "* \"DIVERTED\" - Diverted Flight Indicator (1 = Yes)\n",
        "\n",
        "You have access to 2 years of data Jan 2022 - Dec 2023.\n",
        "\n",
        "The data has also been restricted to several major carriers and their regional services:\n",
        "\n",
        "| Airline Code | Airline Name | Regional Partner |\n",
        "|--------------|--------------|------------------|\n",
        "| UA      | United Airlines   | NA  |\n",
        "| DL      | Delta Airlines    | NA  |\n",
        "| OO      | Skywest Airlines  | United  |\n",
        "| 9E      | Endeavor Air      | Delta     |\n"
      ]
    },
    {
      "cell_type": "markdown",
      "id": "3f9b06bd",
      "metadata": {
        "id": "3f9b06bd"
      },
      "source": [
        "## Access the Data\n",
        "\n",
        "The data is available on [Kaggle](https://www.kaggle.com/datasets/lebrown/un5550-fa24-p2/data)\n",
        "\n",
        "Once you download the data make sure it is saved in your project directory:\n",
        "\n",
        "```\n",
        "class-folder/\n",
        "    p2/\n",
        "        flight-final.csv\n",
        "        img/\n",
        "        p2.ipynb\n",
        "```"
      ]
    },
    {
      "cell_type": "markdown",
      "id": "b054c243-d8e0-4ef5-935c-ce24fd16c727",
      "metadata": {
        "deletable": false,
        "editable": false,
        "id": "b054c243-d8e0-4ef5-935c-ce24fd16c727"
      },
      "source": [
        "<!-- BEGIN QUESTION -->\n",
        "\n",
        "## Q0 - Setup\n",
        "\n",
        "The following code checks to make sure your notebook is running on Gradescope, the cloud, or linux lab machines.\n",
        "\n",
        "While you may develop on your own machines or places like Colab or Github, you should run your final submission on the campus Linux machines using the `un5550fa24` environment.\n"
      ]
    },
    {
      "cell_type": "markdown",
      "id": "57255689",
      "metadata": {
        "id": "57255689"
      },
      "source": [
        "_Type your answer here, replacing this text._"
      ]
    },
    {
      "cell_type": "code",
      "execution_count": 3,
      "id": "10bf6f83-c2f3-47fd-8f87-6a04a36c6775",
      "metadata": {
        "tags": [],
        "colab": {
          "base_uri": "https://localhost:8080/"
        },
        "id": "10bf6f83-c2f3-47fd-8f87-6a04a36c6775",
        "outputId": "3dffdd0a-8a90-4cf3-b4e7-daf1ee0c20bd"
      },
      "outputs": [
        {
          "output_type": "stream",
          "name": "stdout",
          "text": [
            "System: GS - False, COLAB - True, LLM - False\n"
          ]
        }
      ],
      "source": [
        "# DO NOT CHANGE THIS CODE\n",
        "\n",
        "# flag if notebook is running on Gradescope\n",
        "if re.search(r'amzn', platform.uname().release):\n",
        "    GS = True\n",
        "else:\n",
        "    GS = False\n",
        "\n",
        "# flag if notebook is running on Colaboratory\n",
        "try:\n",
        "  import google.colab\n",
        "  COLAB = True\n",
        "except:\n",
        "  COLAB = False\n",
        "\n",
        "# flag if running on Linux lab machines.\n",
        "cname = platform.uname().node\n",
        "if re.search(r'(guardian|colossus|c28|coc-15954-m)', cname):\n",
        "    LLM = True\n",
        "else:\n",
        "    LLM = False\n",
        "\n",
        "print(\"System: GS - %s, COLAB - %s, LLM - %s\" % (GS, COLAB, LLM))"
      ]
    },
    {
      "cell_type": "code",
      "execution_count": 4,
      "id": "48419b35-30e0-4609-a0ba-2857adc56cdb",
      "metadata": {
        "tags": [],
        "colab": {
          "base_uri": "https://localhost:8080/"
        },
        "id": "48419b35-30e0-4609-a0ba-2857adc56cdb",
        "outputId": "a067a3e0-7e63-4c3f-ed24-9edb7f3ea214"
      },
      "outputs": [
        {
          "output_type": "stream",
          "name": "stdout",
          "text": [
            "3.10.12 (main, Sep 11 2024, 15:47:36) [GCC 11.4.0]\n"
          ]
        }
      ],
      "source": [
        "# DO NOT CHANGE THIS CODE\n",
        "pver = sys.version\n",
        "print(pver)"
      ]
    },
    {
      "cell_type": "code",
      "execution_count": 5,
      "id": "23b5c4ff-ef15-421b-8aa9-c7faeb701e21",
      "metadata": {
        "tags": [],
        "colab": {
          "base_uri": "https://localhost:8080/"
        },
        "id": "23b5c4ff-ef15-421b-8aa9-c7faeb701e21",
        "outputId": "ed2b5a5d-d774-4135-e1ff-ea3d693a42f2"
      },
      "outputs": [
        {
          "output_type": "stream",
          "name": "stdout",
          "text": [
            "['/bin/bash: line 1: conda: command not found']\n"
          ]
        }
      ],
      "source": [
        "# DO NOT CHANGE THIS CODE\n",
        "env2 =!conda info | grep 'active env'\n",
        "print(env2)"
      ]
    },
    {
      "cell_type": "code",
      "execution_count": 8,
      "id": "7d43612a-1d30-426d-89c6-7ceb4b2c6b71",
      "metadata": {
        "tags": [],
        "colab": {
          "base_uri": "https://localhost:8080/"
        },
        "id": "7d43612a-1d30-426d-89c6-7ceb4b2c6b71",
        "outputId": "35e6b787-1d46-4261-f775-e6648bfb92ec"
      },
      "outputs": [
        {
          "output_type": "stream",
          "name": "stdout",
          "text": [
            "x1b[41m[FAIL]\u001b[0m numpy version 2.1.0 required, but 1.26.4 installed.\n",
            "x1b[41m[FAIL]\u001b[0m scipy version 1.14.1 required, but 1.13.1 installed.\n",
            "x1b[41m[FAIL]\u001b[0m matplotlib version 3.9.2 required, but 3.7.1 installed.\n",
            "\u001b[42m[ OK ]\u001b[0m pandas version 2.2.2\n",
            "\u001b[42m[ OK ]\u001b[0m seaborn version 0.13.2\n",
            "x1b[41m[FAIL]\u001b[0m sklearn version 1.5.1 required, but 1.5.2 installed.\n"
          ]
        }
      ],
      "source": [
        "# DO NOT CHANGE THIS CODE\n",
        "OK = '\\x1b[42m[ OK ]\\x1b[0m'\n",
        "FAIL = \"x1b[41m[FAIL]\\x1b[0m\"\n",
        "\n",
        "def import_version(pkg, req_ver, fail_msg=\"\"):\n",
        "    mod = None\n",
        "    try:\n",
        "        mod = importlib.import_module(pkg)\n",
        "        ver = mod.__version__\n",
        "        if Version(ver) != req_ver:\n",
        "            print(FAIL, \"%s version %s required, but %s installed.\"\n",
        "                  % (lib, req_ver, ver))\n",
        "        else:\n",
        "            print(OK, '%s version %s' % (pkg, ver))\n",
        "    except ImportError:\n",
        "        print(FAIL, '%s not installed. %s' % (pkg, fail_msg))\n",
        "    return (mod, Version(ver), req_ver)\n",
        "\n",
        "requirements = {'numpy': parse(\"2.1.0\"), 'scipy': parse(\"1.14.1\"),\n",
        "                'matplotlib': parse(\"3.9.2\"), 'pandas': parse(\"2.2.2\"),\n",
        "                'seaborn': parse('0.13.2'),\n",
        "                'sklearn': parse(\"1.5.1\")\n",
        "                }\n",
        "\n",
        "pks = []\n",
        "for lib, required_version in list(requirements.items()):\n",
        "    pks.append(import_version(lib, required_version))"
      ]
    },
    {
      "cell_type": "markdown",
      "id": "3892c8a3",
      "metadata": {
        "deletable": false,
        "editable": false,
        "id": "3892c8a3"
      },
      "source": [
        "<!-- END QUESTION -->\n",
        "\n",
        "## Q1 - Load Data\n",
        "\n",
        "Read in the data.    \n",
        "\n",
        "Set the column names to be: `year`, `month`, `day`, `carrier`, `tailNum`, `flNum`, `origin`, `dest`, `crsDepTime`, `actDepTime`, `depNextDay`, `crsArrTime`, `actArrTime`, `arrNextDay`, `cancelled`, `diverted`\n",
        "\n",
        "You do not need to do any special preprocessing or changing of the data types, we will be during specific processing of the data in the coming questions."
      ]
    },
    {
      "cell_type": "code",
      "execution_count": 16,
      "id": "8eef3c1e",
      "metadata": {
        "id": "8eef3c1e",
        "tags": [],
        "colab": {
          "base_uri": "https://localhost:8080/",
          "height": 206
        },
        "outputId": "00de6d31-fb8c-4171-8413-40a8927dcfe4"
      },
      "outputs": [
        {
          "output_type": "execute_result",
          "data": {
            "text/plain": [
              "   year  month  day carrier tailNum  flNum origin dest  crsDepTime  \\\n",
              "0  2022     12    1      9E  N133EV   4915    DSM  DTW         620   \n",
              "1  2022     12    1      9E  N133EV   5015    DSM  DTW        1405   \n",
              "2  2022     12    1      9E  N133EV   5042    DTW  DSM        1215   \n",
              "3  2022     12    1      9E  N134EV   4883    DTW  DSM        1950   \n",
              "4  2022     12    1      9E  N134EV   5378    SYR  DTW        1710   \n",
              "\n",
              "   actDepTime  depNextDay  crsArrTime  actArrTime  arrNextDay  cancelled  \\\n",
              "0       616.0           0         909       902.0           0        0.0   \n",
              "1      1401.0           0        1651      1635.0           0        0.0   \n",
              "2      1207.0           0        1320      1259.0           0        0.0   \n",
              "3      1958.0           0        2054      2051.0           0        0.0   \n",
              "4      1700.0           0        1854      1823.0           0        0.0   \n",
              "\n",
              "   diverted  \n",
              "0       0.0  \n",
              "1       0.0  \n",
              "2       0.0  \n",
              "3       0.0  \n",
              "4       0.0  "
            ],
            "text/html": [
              "\n",
              "  <div id=\"df-289b3aca-6fb1-4c9c-9222-d029056d50fd\" class=\"colab-df-container\">\n",
              "    <div>\n",
              "<style scoped>\n",
              "    .dataframe tbody tr th:only-of-type {\n",
              "        vertical-align: middle;\n",
              "    }\n",
              "\n",
              "    .dataframe tbody tr th {\n",
              "        vertical-align: top;\n",
              "    }\n",
              "\n",
              "    .dataframe thead th {\n",
              "        text-align: right;\n",
              "    }\n",
              "</style>\n",
              "<table border=\"1\" class=\"dataframe\">\n",
              "  <thead>\n",
              "    <tr style=\"text-align: right;\">\n",
              "      <th></th>\n",
              "      <th>year</th>\n",
              "      <th>month</th>\n",
              "      <th>day</th>\n",
              "      <th>carrier</th>\n",
              "      <th>tailNum</th>\n",
              "      <th>flNum</th>\n",
              "      <th>origin</th>\n",
              "      <th>dest</th>\n",
              "      <th>crsDepTime</th>\n",
              "      <th>actDepTime</th>\n",
              "      <th>depNextDay</th>\n",
              "      <th>crsArrTime</th>\n",
              "      <th>actArrTime</th>\n",
              "      <th>arrNextDay</th>\n",
              "      <th>cancelled</th>\n",
              "      <th>diverted</th>\n",
              "    </tr>\n",
              "  </thead>\n",
              "  <tbody>\n",
              "    <tr>\n",
              "      <th>0</th>\n",
              "      <td>2022</td>\n",
              "      <td>12</td>\n",
              "      <td>1</td>\n",
              "      <td>9E</td>\n",
              "      <td>N133EV</td>\n",
              "      <td>4915</td>\n",
              "      <td>DSM</td>\n",
              "      <td>DTW</td>\n",
              "      <td>620</td>\n",
              "      <td>616.0</td>\n",
              "      <td>0</td>\n",
              "      <td>909</td>\n",
              "      <td>902.0</td>\n",
              "      <td>0</td>\n",
              "      <td>0.0</td>\n",
              "      <td>0.0</td>\n",
              "    </tr>\n",
              "    <tr>\n",
              "      <th>1</th>\n",
              "      <td>2022</td>\n",
              "      <td>12</td>\n",
              "      <td>1</td>\n",
              "      <td>9E</td>\n",
              "      <td>N133EV</td>\n",
              "      <td>5015</td>\n",
              "      <td>DSM</td>\n",
              "      <td>DTW</td>\n",
              "      <td>1405</td>\n",
              "      <td>1401.0</td>\n",
              "      <td>0</td>\n",
              "      <td>1651</td>\n",
              "      <td>1635.0</td>\n",
              "      <td>0</td>\n",
              "      <td>0.0</td>\n",
              "      <td>0.0</td>\n",
              "    </tr>\n",
              "    <tr>\n",
              "      <th>2</th>\n",
              "      <td>2022</td>\n",
              "      <td>12</td>\n",
              "      <td>1</td>\n",
              "      <td>9E</td>\n",
              "      <td>N133EV</td>\n",
              "      <td>5042</td>\n",
              "      <td>DTW</td>\n",
              "      <td>DSM</td>\n",
              "      <td>1215</td>\n",
              "      <td>1207.0</td>\n",
              "      <td>0</td>\n",
              "      <td>1320</td>\n",
              "      <td>1259.0</td>\n",
              "      <td>0</td>\n",
              "      <td>0.0</td>\n",
              "      <td>0.0</td>\n",
              "    </tr>\n",
              "    <tr>\n",
              "      <th>3</th>\n",
              "      <td>2022</td>\n",
              "      <td>12</td>\n",
              "      <td>1</td>\n",
              "      <td>9E</td>\n",
              "      <td>N134EV</td>\n",
              "      <td>4883</td>\n",
              "      <td>DTW</td>\n",
              "      <td>DSM</td>\n",
              "      <td>1950</td>\n",
              "      <td>1958.0</td>\n",
              "      <td>0</td>\n",
              "      <td>2054</td>\n",
              "      <td>2051.0</td>\n",
              "      <td>0</td>\n",
              "      <td>0.0</td>\n",
              "      <td>0.0</td>\n",
              "    </tr>\n",
              "    <tr>\n",
              "      <th>4</th>\n",
              "      <td>2022</td>\n",
              "      <td>12</td>\n",
              "      <td>1</td>\n",
              "      <td>9E</td>\n",
              "      <td>N134EV</td>\n",
              "      <td>5378</td>\n",
              "      <td>SYR</td>\n",
              "      <td>DTW</td>\n",
              "      <td>1710</td>\n",
              "      <td>1700.0</td>\n",
              "      <td>0</td>\n",
              "      <td>1854</td>\n",
              "      <td>1823.0</td>\n",
              "      <td>0</td>\n",
              "      <td>0.0</td>\n",
              "      <td>0.0</td>\n",
              "    </tr>\n",
              "  </tbody>\n",
              "</table>\n",
              "</div>\n",
              "    <div class=\"colab-df-buttons\">\n",
              "\n",
              "  <div class=\"colab-df-container\">\n",
              "    <button class=\"colab-df-convert\" onclick=\"convertToInteractive('df-289b3aca-6fb1-4c9c-9222-d029056d50fd')\"\n",
              "            title=\"Convert this dataframe to an interactive table.\"\n",
              "            style=\"display:none;\">\n",
              "\n",
              "  <svg xmlns=\"http://www.w3.org/2000/svg\" height=\"24px\" viewBox=\"0 -960 960 960\">\n",
              "    <path d=\"M120-120v-720h720v720H120Zm60-500h600v-160H180v160Zm220 220h160v-160H400v160Zm0 220h160v-160H400v160ZM180-400h160v-160H180v160Zm440 0h160v-160H620v160ZM180-180h160v-160H180v160Zm440 0h160v-160H620v160Z\"/>\n",
              "  </svg>\n",
              "    </button>\n",
              "\n",
              "  <style>\n",
              "    .colab-df-container {\n",
              "      display:flex;\n",
              "      gap: 12px;\n",
              "    }\n",
              "\n",
              "    .colab-df-convert {\n",
              "      background-color: #E8F0FE;\n",
              "      border: none;\n",
              "      border-radius: 50%;\n",
              "      cursor: pointer;\n",
              "      display: none;\n",
              "      fill: #1967D2;\n",
              "      height: 32px;\n",
              "      padding: 0 0 0 0;\n",
              "      width: 32px;\n",
              "    }\n",
              "\n",
              "    .colab-df-convert:hover {\n",
              "      background-color: #E2EBFA;\n",
              "      box-shadow: 0px 1px 2px rgba(60, 64, 67, 0.3), 0px 1px 3px 1px rgba(60, 64, 67, 0.15);\n",
              "      fill: #174EA6;\n",
              "    }\n",
              "\n",
              "    .colab-df-buttons div {\n",
              "      margin-bottom: 4px;\n",
              "    }\n",
              "\n",
              "    [theme=dark] .colab-df-convert {\n",
              "      background-color: #3B4455;\n",
              "      fill: #D2E3FC;\n",
              "    }\n",
              "\n",
              "    [theme=dark] .colab-df-convert:hover {\n",
              "      background-color: #434B5C;\n",
              "      box-shadow: 0px 1px 3px 1px rgba(0, 0, 0, 0.15);\n",
              "      filter: drop-shadow(0px 1px 2px rgba(0, 0, 0, 0.3));\n",
              "      fill: #FFFFFF;\n",
              "    }\n",
              "  </style>\n",
              "\n",
              "    <script>\n",
              "      const buttonEl =\n",
              "        document.querySelector('#df-289b3aca-6fb1-4c9c-9222-d029056d50fd button.colab-df-convert');\n",
              "      buttonEl.style.display =\n",
              "        google.colab.kernel.accessAllowed ? 'block' : 'none';\n",
              "\n",
              "      async function convertToInteractive(key) {\n",
              "        const element = document.querySelector('#df-289b3aca-6fb1-4c9c-9222-d029056d50fd');\n",
              "        const dataTable =\n",
              "          await google.colab.kernel.invokeFunction('convertToInteractive',\n",
              "                                                    [key], {});\n",
              "        if (!dataTable) return;\n",
              "\n",
              "        const docLinkHtml = 'Like what you see? Visit the ' +\n",
              "          '<a target=\"_blank\" href=https://colab.research.google.com/notebooks/data_table.ipynb>data table notebook</a>'\n",
              "          + ' to learn more about interactive tables.';\n",
              "        element.innerHTML = '';\n",
              "        dataTable['output_type'] = 'display_data';\n",
              "        await google.colab.output.renderOutput(dataTable, element);\n",
              "        const docLink = document.createElement('div');\n",
              "        docLink.innerHTML = docLinkHtml;\n",
              "        element.appendChild(docLink);\n",
              "      }\n",
              "    </script>\n",
              "  </div>\n",
              "\n",
              "\n",
              "<div id=\"df-43306d2c-44ad-407d-9c28-dc36ce447c4a\">\n",
              "  <button class=\"colab-df-quickchart\" onclick=\"quickchart('df-43306d2c-44ad-407d-9c28-dc36ce447c4a')\"\n",
              "            title=\"Suggest charts\"\n",
              "            style=\"display:none;\">\n",
              "\n",
              "<svg xmlns=\"http://www.w3.org/2000/svg\" height=\"24px\"viewBox=\"0 0 24 24\"\n",
              "     width=\"24px\">\n",
              "    <g>\n",
              "        <path d=\"M19 3H5c-1.1 0-2 .9-2 2v14c0 1.1.9 2 2 2h14c1.1 0 2-.9 2-2V5c0-1.1-.9-2-2-2zM9 17H7v-7h2v7zm4 0h-2V7h2v10zm4 0h-2v-4h2v4z\"/>\n",
              "    </g>\n",
              "</svg>\n",
              "  </button>\n",
              "\n",
              "<style>\n",
              "  .colab-df-quickchart {\n",
              "      --bg-color: #E8F0FE;\n",
              "      --fill-color: #1967D2;\n",
              "      --hover-bg-color: #E2EBFA;\n",
              "      --hover-fill-color: #174EA6;\n",
              "      --disabled-fill-color: #AAA;\n",
              "      --disabled-bg-color: #DDD;\n",
              "  }\n",
              "\n",
              "  [theme=dark] .colab-df-quickchart {\n",
              "      --bg-color: #3B4455;\n",
              "      --fill-color: #D2E3FC;\n",
              "      --hover-bg-color: #434B5C;\n",
              "      --hover-fill-color: #FFFFFF;\n",
              "      --disabled-bg-color: #3B4455;\n",
              "      --disabled-fill-color: #666;\n",
              "  }\n",
              "\n",
              "  .colab-df-quickchart {\n",
              "    background-color: var(--bg-color);\n",
              "    border: none;\n",
              "    border-radius: 50%;\n",
              "    cursor: pointer;\n",
              "    display: none;\n",
              "    fill: var(--fill-color);\n",
              "    height: 32px;\n",
              "    padding: 0;\n",
              "    width: 32px;\n",
              "  }\n",
              "\n",
              "  .colab-df-quickchart:hover {\n",
              "    background-color: var(--hover-bg-color);\n",
              "    box-shadow: 0 1px 2px rgba(60, 64, 67, 0.3), 0 1px 3px 1px rgba(60, 64, 67, 0.15);\n",
              "    fill: var(--button-hover-fill-color);\n",
              "  }\n",
              "\n",
              "  .colab-df-quickchart-complete:disabled,\n",
              "  .colab-df-quickchart-complete:disabled:hover {\n",
              "    background-color: var(--disabled-bg-color);\n",
              "    fill: var(--disabled-fill-color);\n",
              "    box-shadow: none;\n",
              "  }\n",
              "\n",
              "  .colab-df-spinner {\n",
              "    border: 2px solid var(--fill-color);\n",
              "    border-color: transparent;\n",
              "    border-bottom-color: var(--fill-color);\n",
              "    animation:\n",
              "      spin 1s steps(1) infinite;\n",
              "  }\n",
              "\n",
              "  @keyframes spin {\n",
              "    0% {\n",
              "      border-color: transparent;\n",
              "      border-bottom-color: var(--fill-color);\n",
              "      border-left-color: var(--fill-color);\n",
              "    }\n",
              "    20% {\n",
              "      border-color: transparent;\n",
              "      border-left-color: var(--fill-color);\n",
              "      border-top-color: var(--fill-color);\n",
              "    }\n",
              "    30% {\n",
              "      border-color: transparent;\n",
              "      border-left-color: var(--fill-color);\n",
              "      border-top-color: var(--fill-color);\n",
              "      border-right-color: var(--fill-color);\n",
              "    }\n",
              "    40% {\n",
              "      border-color: transparent;\n",
              "      border-right-color: var(--fill-color);\n",
              "      border-top-color: var(--fill-color);\n",
              "    }\n",
              "    60% {\n",
              "      border-color: transparent;\n",
              "      border-right-color: var(--fill-color);\n",
              "    }\n",
              "    80% {\n",
              "      border-color: transparent;\n",
              "      border-right-color: var(--fill-color);\n",
              "      border-bottom-color: var(--fill-color);\n",
              "    }\n",
              "    90% {\n",
              "      border-color: transparent;\n",
              "      border-bottom-color: var(--fill-color);\n",
              "    }\n",
              "  }\n",
              "</style>\n",
              "\n",
              "  <script>\n",
              "    async function quickchart(key) {\n",
              "      const quickchartButtonEl =\n",
              "        document.querySelector('#' + key + ' button');\n",
              "      quickchartButtonEl.disabled = true;  // To prevent multiple clicks.\n",
              "      quickchartButtonEl.classList.add('colab-df-spinner');\n",
              "      try {\n",
              "        const charts = await google.colab.kernel.invokeFunction(\n",
              "            'suggestCharts', [key], {});\n",
              "      } catch (error) {\n",
              "        console.error('Error during call to suggestCharts:', error);\n",
              "      }\n",
              "      quickchartButtonEl.classList.remove('colab-df-spinner');\n",
              "      quickchartButtonEl.classList.add('colab-df-quickchart-complete');\n",
              "    }\n",
              "    (() => {\n",
              "      let quickchartButtonEl =\n",
              "        document.querySelector('#df-43306d2c-44ad-407d-9c28-dc36ce447c4a button');\n",
              "      quickchartButtonEl.style.display =\n",
              "        google.colab.kernel.accessAllowed ? 'block' : 'none';\n",
              "    })();\n",
              "  </script>\n",
              "</div>\n",
              "\n",
              "    </div>\n",
              "  </div>\n"
            ],
            "application/vnd.google.colaboratory.intrinsic+json": {
              "type": "dataframe",
              "variable_name": "flights"
            }
          },
          "metadata": {},
          "execution_count": 16
        }
      ],
      "source": [
        "# Read in data, set DataFrame columns to names above\n",
        "\n",
        "flights = pd.read_csv(\"flight-final.csv\")\n",
        "flights.columns = ['year', 'month', 'day', 'carrier', 'tailNum', 'flNum', 'origin', 'dest', 'crsDepTime', 'actDepTime', 'depNextDay', 'crsArrTime', 'actArrTime', 'arrNextDay', 'cancelled', 'diverted']\n",
        "\n",
        "flights.head()"
      ]
    },
    {
      "cell_type": "code",
      "execution_count": 17,
      "id": "b846e3fc",
      "metadata": {
        "deletable": false,
        "editable": false,
        "colab": {
          "base_uri": "https://localhost:8080/",
          "height": 141
        },
        "id": "b846e3fc",
        "outputId": "223304af-8ad1-41c0-af70-dd1b1e0b370e"
      },
      "outputs": [
        {
          "output_type": "error",
          "ename": "NameError",
          "evalue": "name 'grader' is not defined",
          "traceback": [
            "\u001b[0;31m---------------------------------------------------------------------------\u001b[0m",
            "\u001b[0;31mNameError\u001b[0m                                 Traceback (most recent call last)",
            "\u001b[0;32m<ipython-input-17-e65af2900b1d>\u001b[0m in \u001b[0;36m<cell line: 1>\u001b[0;34m()\u001b[0m\n\u001b[0;32m----> 1\u001b[0;31m \u001b[0mgrader\u001b[0m\u001b[0;34m.\u001b[0m\u001b[0mcheck\u001b[0m\u001b[0;34m(\u001b[0m\u001b[0;34m\"q1\"\u001b[0m\u001b[0;34m)\u001b[0m\u001b[0;34m\u001b[0m\u001b[0;34m\u001b[0m\u001b[0m\n\u001b[0m",
            "\u001b[0;31mNameError\u001b[0m: name 'grader' is not defined"
          ]
        }
      ],
      "source": [
        "grader.check(\"q1\")"
      ]
    },
    {
      "cell_type": "markdown",
      "id": "a262268b-73da-49a6-bd32-cbcdfd3b07cb",
      "metadata": {
        "id": "a262268b-73da-49a6-bd32-cbcdfd3b07cb"
      },
      "source": [
        "## Aside : Style\n",
        "\n",
        "In the following questions you are going to be chaining together many expressions, perhaps creating code that is longer than 79 characters long (the maximum suggested by the [PEP-8 style guides](https://peps.python.org/pep-0008/#maximum-line-length)).\n",
        "\n",
        "    The preferred way of wrapping long lines is by using Python’s implied line\n",
        "    continuation inside parentheses, brackets and braces. Long lines can be broken\n",
        "    over multiple lines by wrapping expressions in parentheses. These should be\n",
        "    used in preference to using a backslash for line continuation.\n",
        "    \n",
        "Using parenthesis surrounding code make it possible to break the code into multiple lines for readability.\n",
        "\n",
        "Here are some examples:"
      ]
    },
    {
      "cell_type": "code",
      "execution_count": 18,
      "id": "4b525280-a6ba-4f32-a2ff-21cb8bcb1389",
      "metadata": {
        "tags": [],
        "id": "4b525280-a6ba-4f32-a2ff-21cb8bcb1389"
      },
      "outputs": [],
      "source": [
        "temp = (flights[(flights['dest'] == 'CMX') |\n",
        "                (flights['origin'] == 'CMX')])"
      ]
    },
    {
      "cell_type": "code",
      "execution_count": 19,
      "id": "bd82cd96-ba82-4254-808b-eeb607a0149a",
      "metadata": {
        "tags": [],
        "id": "bd82cd96-ba82-4254-808b-eeb607a0149a"
      },
      "outputs": [],
      "source": [
        "temp = (\n",
        "    flights[(flights['dest'] == 'CMX') |\n",
        "            (flights['origin'] == 'CMX')]\n",
        ")"
      ]
    },
    {
      "cell_type": "code",
      "execution_count": 20,
      "id": "c31869a2-11fd-4605-b09b-2280cc891bca",
      "metadata": {
        "tags": [],
        "id": "c31869a2-11fd-4605-b09b-2280cc891bca"
      },
      "outputs": [],
      "source": [
        "temp = (flights\n",
        "        .groupby('month')['diverted']\n",
        "        .sum())"
      ]
    },
    {
      "cell_type": "code",
      "execution_count": 21,
      "id": "c6ade5c7-a597-44a0-9e5a-a7bb8bd70062",
      "metadata": {
        "tags": [],
        "id": "c6ade5c7-a597-44a0-9e5a-a7bb8bd70062"
      },
      "outputs": [],
      "source": [
        "temp = (\n",
        "    flights\n",
        "    .groupby('month')['diverted']\n",
        "    .sum()\n",
        ")"
      ]
    },
    {
      "cell_type": "markdown",
      "id": "a4288126",
      "metadata": {
        "id": "a4288126"
      },
      "source": [
        "## Q2 - Explore Data\n",
        "\n",
        "Let's start to explore the data.  "
      ]
    },
    {
      "cell_type": "code",
      "execution_count": 22,
      "id": "824735e5",
      "metadata": {
        "colab": {
          "base_uri": "https://localhost:8080/"
        },
        "id": "824735e5",
        "outputId": "f7250543-c9d6-4208-ed2e-8de77511d84c",
        "tags": []
      },
      "outputs": [
        {
          "output_type": "stream",
          "name": "stdout",
          "text": [
            "Flight data:   919839 rows,  16 columns\n"
          ]
        }
      ],
      "source": [
        "print(\"Flight data: %8d rows,  %d columns\" % (flights.shape[0], flights.shape[1]))"
      ]
    },
    {
      "cell_type": "markdown",
      "id": "cbe6f88a-7eb1-49c4-a572-c427969784c2",
      "metadata": {
        "id": "cbe6f88a-7eb1-49c4-a572-c427969784c2"
      },
      "source": [
        "We want to remove flights that were cancelled or diverted from the rest of our analysis.\n",
        "\n",
        "But, first let's examine cancelled or diverted flights.\n",
        "\n"
      ]
    },
    {
      "cell_type": "markdown",
      "id": "baf18cba-3702-42d9-af8c-ec7e1eec604e",
      "metadata": {
        "deletable": false,
        "editable": false,
        "id": "baf18cba-3702-42d9-af8c-ec7e1eec604e"
      },
      "source": [
        "### Q2a - Diverted and Cancelled Flights\n",
        "\n",
        "You will need to determine the number of diverted flights, `num_divert` and the number of cancelled flights, `num_cancel`.\n",
        "\n",
        "Next, determine the destination airport(s), by their code, with the highest proportion of diverted and cancelled flights `airport_highest_prop_divert` and `airport_highest_prop_cancel`."
      ]
    },
    {
      "cell_type": "code",
      "execution_count": 23,
      "id": "b5fc9737-bae9-400a-a385-309874a39cbd",
      "metadata": {
        "tags": [],
        "colab": {
          "base_uri": "https://localhost:8080/"
        },
        "id": "b5fc9737-bae9-400a-a385-309874a39cbd",
        "outputId": "3ab0f33c-9adf-4502-91e4-7a9a1611364c"
      },
      "outputs": [
        {
          "output_type": "stream",
          "name": "stdout",
          "text": [
            "Num. of diverted flights:     1872\n",
            "Num. of cancelled flights:   15264\n",
            "\n"
          ]
        }
      ],
      "source": [
        "# num_divert - number of flights that were diverted.\n",
        "# num_cancel - number of flights that were cancelled\n",
        "num_divert = flights['diverted'].sum()\n",
        "num_cancel = flights['cancelled'].sum()\n",
        "print('Num. of diverted flights:  %7d\\nNum. of cancelled flights: %7d\\n' % \\\n",
        "      (num_divert, num_cancel))"
      ]
    },
    {
      "cell_type": "code",
      "execution_count": 25,
      "id": "33a264f0-9561-486a-9a5c-47ef1bef2873",
      "metadata": {
        "tags": [],
        "colab": {
          "base_uri": "https://localhost:8080/"
        },
        "id": "33a264f0-9561-486a-9a5c-47ef1bef2873",
        "outputId": "c0031a87-f085-4414-acf2-6b99967cec21"
      },
      "outputs": [
        {
          "output_type": "stream",
          "name": "stdout",
          "text": [
            "Airport with highest proportion of flights diverted:  ASE\n",
            "Airport with highest proportion of flights cancelled: CMX\n"
          ]
        }
      ],
      "source": [
        "\n",
        "divert_prop = flights.groupby('dest')['diverted'].sum() / flights.groupby('dest')['diverted'].count()\n",
        "cancel_prop = flights.groupby('dest')['cancelled'].sum() / flights.groupby('dest')['cancelled'].count()\n",
        "\n",
        "\n",
        "airport_highest_prop_divert = divert_prop.idxmax()\n",
        "\n",
        "airport_highest_prop_cancel = cancel_prop.idxmax()\n",
        "\n",
        "\n",
        "print('Airport with highest proportion of flights diverted:  %s' % airport_highest_prop_divert)\n",
        "print('Airport with highest proportion of flights cancelled: %s' % airport_highest_prop_cancel)"
      ]
    },
    {
      "cell_type": "code",
      "execution_count": 26,
      "id": "1eded801",
      "metadata": {
        "deletable": false,
        "editable": false,
        "colab": {
          "base_uri": "https://localhost:8080/",
          "height": 141
        },
        "id": "1eded801",
        "outputId": "9b6fa7ba-7c5e-47bd-8814-7d3e79d92c77"
      },
      "outputs": [
        {
          "output_type": "error",
          "ename": "NameError",
          "evalue": "name 'grader' is not defined",
          "traceback": [
            "\u001b[0;31m---------------------------------------------------------------------------\u001b[0m",
            "\u001b[0;31mNameError\u001b[0m                                 Traceback (most recent call last)",
            "\u001b[0;32m<ipython-input-26-fe8495b0a09a>\u001b[0m in \u001b[0;36m<cell line: 1>\u001b[0;34m()\u001b[0m\n\u001b[0;32m----> 1\u001b[0;31m \u001b[0mgrader\u001b[0m\u001b[0;34m.\u001b[0m\u001b[0mcheck\u001b[0m\u001b[0;34m(\u001b[0m\u001b[0;34m\"q2a\"\u001b[0m\u001b[0;34m)\u001b[0m\u001b[0;34m\u001b[0m\u001b[0;34m\u001b[0m\u001b[0m\n\u001b[0m",
            "\u001b[0;31mNameError\u001b[0m: name 'grader' is not defined"
          ]
        }
      ],
      "source": [
        "grader.check(\"q2a\")"
      ]
    },
    {
      "cell_type": "markdown",
      "id": "1fedb9b0-18db-4115-b581-f7a25f5e71be",
      "metadata": {
        "id": "1fedb9b0-18db-4115-b581-f7a25f5e71be"
      },
      "source": [
        "<br>\n",
        "\n",
        "Do these values make sense?  You can lookup airport codes on Google.\n",
        "\n",
        "<br>\n",
        "\n",
        "**Note** the local airport in Houghton / Hancock is `CMX`."
      ]
    },
    {
      "cell_type": "markdown",
      "id": "631bb99e-484f-4814-b272-e81f4be7a0a5",
      "metadata": {
        "deletable": false,
        "editable": false,
        "id": "631bb99e-484f-4814-b272-e81f4be7a0a5"
      },
      "source": [
        "### Q2b - Filter Cancelled and Diverted Flights\n",
        "\n",
        "Now, let's remove the cancelled and diverted flights from further analysis.\n",
        "\n",
        "After removing both flights, reset the index on the remaining flights in the `flights` DataFrame."
      ]
    },
    {
      "cell_type": "code",
      "execution_count": 27,
      "id": "dd34db01-edf8-4900-bf47-d5b7d3b4d16d",
      "metadata": {
        "tags": [],
        "colab": {
          "base_uri": "https://localhost:8080/"
        },
        "id": "dd34db01-edf8-4900-bf47-d5b7d3b4d16d",
        "outputId": "5f18ac7d-63a3-48e6-d183-e264607c9b2b"
      },
      "outputs": [
        {
          "output_type": "stream",
          "name": "stdout",
          "text": [
            "Flight data:     902703 rows\n"
          ]
        }
      ],
      "source": [
        "# Remove the cancelled and diverted flights.\n",
        "# Then, reset the index of the flights DataFrame\n",
        "flights = flights[(flights['cancelled'] == 0) & (flights['diverted'] == 0)]\n",
        "\n",
        "flights = flights.reset_index(drop=True)\n",
        "\n",
        "print(\"Flight data:   %8d rows\" % flights.shape[0])"
      ]
    },
    {
      "cell_type": "code",
      "execution_count": 28,
      "id": "ee52aef5",
      "metadata": {
        "deletable": false,
        "editable": false,
        "colab": {
          "base_uri": "https://localhost:8080/",
          "height": 141
        },
        "id": "ee52aef5",
        "outputId": "fe500e53-81b1-4465-c670-0c84621c6a8d"
      },
      "outputs": [
        {
          "output_type": "error",
          "ename": "NameError",
          "evalue": "name 'grader' is not defined",
          "traceback": [
            "\u001b[0;31m---------------------------------------------------------------------------\u001b[0m",
            "\u001b[0;31mNameError\u001b[0m                                 Traceback (most recent call last)",
            "\u001b[0;32m<ipython-input-28-b7358295a34d>\u001b[0m in \u001b[0;36m<cell line: 1>\u001b[0;34m()\u001b[0m\n\u001b[0;32m----> 1\u001b[0;31m \u001b[0mgrader\u001b[0m\u001b[0;34m.\u001b[0m\u001b[0mcheck\u001b[0m\u001b[0;34m(\u001b[0m\u001b[0;34m\"q2b\"\u001b[0m\u001b[0;34m)\u001b[0m\u001b[0;34m\u001b[0m\u001b[0;34m\u001b[0m\u001b[0m\n\u001b[0m",
            "\u001b[0;31mNameError\u001b[0m: name 'grader' is not defined"
          ]
        }
      ],
      "source": [
        "grader.check(\"q2b\")"
      ]
    },
    {
      "cell_type": "markdown",
      "id": "55a029f2-ab7b-43ea-9fe6-7f499dc35444",
      "metadata": {
        "deletable": false,
        "editable": false,
        "id": "55a029f2-ab7b-43ea-9fe6-7f499dc35444"
      },
      "source": [
        "### Q2c - Flights at `DTW` and `ORD`\n",
        "\n",
        "Report the number of flights departing and arriving from each of the two airports under study: `DTW` and `ORD`."
      ]
    },
    {
      "cell_type": "code",
      "execution_count": 29,
      "id": "f26bc0b8",
      "metadata": {
        "colab": {
          "base_uri": "https://localhost:8080/"
        },
        "id": "f26bc0b8",
        "outputId": "89b7a989-f76a-4129-8160-4a46a3047298",
        "tags": []
      },
      "outputs": [
        {
          "output_type": "stream",
          "name": "stdout",
          "text": [
            "DTW flights:    192689 arrivals,   192577 departures\n"
          ]
        }
      ],
      "source": [
        "# numArrDTW - number of flights arriving at DTW\n",
        "# numDepDTW - number of flights departing DTW\n",
        "numArrDTW = flights[flights['dest'] == 'DTW'].shape[0]\n",
        "numDepDTW = flights[flights['origin'] == 'DTW'].shape[0]\n",
        "print(\"DTW flights:   %7d arrivals,  %7d departures\" % (numArrDTW, numDepDTW))"
      ]
    },
    {
      "cell_type": "code",
      "execution_count": 30,
      "id": "10a3ea63",
      "metadata": {
        "tags": [],
        "colab": {
          "base_uri": "https://localhost:8080/"
        },
        "id": "10a3ea63",
        "outputId": "427f1aa1-b215-47e3-8a83-54598f5754f1"
      },
      "outputs": [
        {
          "output_type": "stream",
          "name": "stdout",
          "text": [
            "ORD flights:    266762 arrivals,   266971 departures\n"
          ]
        }
      ],
      "source": [
        "# numArrORD - number of flights arriving at ORD\n",
        "# numDepORD - number of flights departing ORD\n",
        "numArrORD = flights[flights['dest'] == 'ORD'].shape[0]\n",
        "numDepORD = flights[flights['origin'] == 'ORD'].shape[0]\n",
        "print(\"ORD flights:   %7d arrivals,  %7d departures\" % (numArrORD, numDepORD))"
      ]
    },
    {
      "cell_type": "markdown",
      "id": "3a5ab88d",
      "metadata": {
        "deletable": false,
        "editable": false,
        "id": "3a5ab88d"
      },
      "source": [
        "*Note*: The number of flights arriving and departing from the two airports exceeds the total number of flights, because flights between the 2 airports are counted twice."
      ]
    },
    {
      "cell_type": "code",
      "execution_count": 31,
      "id": "1402090d",
      "metadata": {
        "deletable": false,
        "editable": false,
        "colab": {
          "base_uri": "https://localhost:8080/",
          "height": 141
        },
        "id": "1402090d",
        "outputId": "6a8e846b-f5cc-45c7-c27a-0edf5ece8c4f"
      },
      "outputs": [
        {
          "output_type": "error",
          "ename": "NameError",
          "evalue": "name 'grader' is not defined",
          "traceback": [
            "\u001b[0;31m---------------------------------------------------------------------------\u001b[0m",
            "\u001b[0;31mNameError\u001b[0m                                 Traceback (most recent call last)",
            "\u001b[0;32m<ipython-input-31-e915f10ec861>\u001b[0m in \u001b[0;36m<cell line: 1>\u001b[0;34m()\u001b[0m\n\u001b[0;32m----> 1\u001b[0;31m \u001b[0mgrader\u001b[0m\u001b[0;34m.\u001b[0m\u001b[0mcheck\u001b[0m\u001b[0;34m(\u001b[0m\u001b[0;34m\"q2c\"\u001b[0m\u001b[0;34m)\u001b[0m\u001b[0;34m\u001b[0m\u001b[0;34m\u001b[0m\u001b[0m\n\u001b[0m",
            "\u001b[0;31mNameError\u001b[0m: name 'grader' is not defined"
          ]
        }
      ],
      "source": [
        "grader.check(\"q2c\")"
      ]
    },
    {
      "cell_type": "markdown",
      "id": "3688981e",
      "metadata": {
        "id": "3688981e"
      },
      "source": [
        "## Q3 - Time Information and Flight Delays.\n",
        "\n",
        "Both the departure and arrival times were read in as integers or floating-point numbers in local time format: `hhmm`."
      ]
    },
    {
      "cell_type": "markdown",
      "id": "d26ac7ce-568b-445c-b6e8-3409d8c6c0bd",
      "metadata": {
        "deletable": false,
        "editable": false,
        "id": "d26ac7ce-568b-445c-b6e8-3409d8c6c0bd"
      },
      "source": [
        "### Question 3a - Extract Hour and Minutes\n",
        "\n",
        "Write two functions, `extract_hour` and `extract_mins` that converts the local time to hours and minutes, respectively.\n",
        "\n",
        "*Hint:* You may want to use modular arithmetic and integer division.\n",
        "\n",
        "Notes:\n",
        "\n",
        "* The function should work on a single value passed or a Series passed in as an argument.\n",
        "* The function should not have a `for` loop, if it does you will lose points!"
      ]
    },
    {
      "cell_type": "code",
      "execution_count": 32,
      "id": "5a81c6c4",
      "metadata": {
        "id": "5a81c6c4",
        "tags": []
      },
      "outputs": [],
      "source": [
        "def extract_hour(time):\n",
        "    \"\"\"\n",
        "    Extract hour information from the time given in hhmm format.\n",
        "\n",
        "    Input:\n",
        "        time (float64 or int64): Series of time given in hhmm format.\n",
        "          Takes on values in 0.0-2400.0 in float64 representation or\n",
        "          values in 0-2400 in int64 representation\n",
        "\n",
        "    Returns:\n",
        "        array (float64 or int64): Series of same dimension as input of hours\n",
        "          values should be 0-24, i.e., 24-hour day format\n",
        "\n",
        "    Example: 1303 should return 13\n",
        "    >>> extract_hour(1303.0)\n",
        "    13\n",
        "    \"\"\"\n",
        "    hours = (time // 100).astype(int)\n",
        "\n",
        "    return hours"
      ]
    },
    {
      "cell_type": "code",
      "execution_count": 33,
      "id": "7df7ba00",
      "metadata": {
        "id": "7df7ba00",
        "tags": []
      },
      "outputs": [],
      "source": [
        "def extract_min(time):\n",
        "    \"\"\"\n",
        "    Extract minute information from the time given in hhmm time.\n",
        "\n",
        "    Input:\n",
        "        time (float64 or int64): Series of time given in hhmm format.\n",
        "          Takes on values in 0.0-2400.0 in float64 representation or\n",
        "          values in 0-2400 in int64 representation\n",
        "\n",
        "    Returns:\n",
        "        array (float64 or int64): Series of same dimension as input of minutes.\n",
        "          values should be 0-59\n",
        "\n",
        "    Example: 1303 should return 3\n",
        "    >>> extract_mins(1303.0)\n",
        "    3\n",
        "    \"\"\"\n",
        "    mins = (time % 100).astype(int)\n",
        "    return mins"
      ]
    },
    {
      "cell_type": "markdown",
      "id": "97e9e308",
      "metadata": {
        "deletable": false,
        "editable": false,
        "id": "97e9e308"
      },
      "source": [
        "Here are some examples of usage:\n",
        "\n",
        "```\n",
        ">>> extract_hour(1450)\n",
        ">>> extract_hour(flights['actDepTime'][100:200])\n",
        ">>> extract_hour(flights['crsDepTime'])\n",
        ">>> extract_min(1450)\n",
        ">>> extract_min(flights['actDepTime'][100:200])\n",
        ">>> extract_min(flights['crsDepTime'])\n",
        "```"
      ]
    },
    {
      "cell_type": "code",
      "execution_count": null,
      "id": "1d6ca7e3",
      "metadata": {
        "deletable": false,
        "editable": false,
        "id": "1d6ca7e3"
      },
      "outputs": [],
      "source": [
        "grader.check(\"q3a\")"
      ]
    },
    {
      "cell_type": "markdown",
      "id": "d8a500a7",
      "metadata": {
        "deletable": false,
        "editable": false,
        "id": "d8a500a7"
      },
      "source": [
        "### Q3b - Calculate Time in Minutes\n",
        "\n",
        "Convert a time formatted in `hhmm` time in the number of minutes.    \n",
        "\n",
        "For example, the following times in `hhmm` format converted to minutes are: `1005` is 605 minutes and `837` is 517 minutes and `1524` is 924 minutes.\n",
        "\n",
        "This function `convert_to_minutes` function, should make use of the two functions you wrote above: `extract_hour` and `extract_min`.\n",
        "\n",
        "Comment:\n",
        "\n",
        "* The function should work on a single value passed or a Series passed in as an argument.\n",
        "* The function should not have a `for` loop, if it does you will lose points!\n",
        "* The function should use the functions `extract_hour` and `extract_min`."
      ]
    },
    {
      "cell_type": "code",
      "execution_count": 34,
      "id": "ed3a7782",
      "metadata": {
        "id": "ed3a7782",
        "tags": []
      },
      "outputs": [],
      "source": [
        "def convert_to_minutes(time):\n",
        "    \"\"\"\n",
        "    Converts time in hhmm format to number of minutes\n",
        "\n",
        "    Input:\n",
        "       time (float64 or int64): Series of time given in hhmm format.\n",
        "          Takes on values in 0.0-2400.0 in float64 representation or\n",
        "          values in 0-2400 in int64 representation\n",
        "\n",
        "    Returns:\n",
        "        array (float64 or int64): Series of same dimension as input with\n",
        "           total mins\n",
        "\n",
        "\n",
        "    Example: 1303 is converted to 783\n",
        "    >>> convert_to_minutes(1303.0)\n",
        "    783.0\n",
        "    \"\"\"\n",
        "    # make use of the functions you wrote above: extract_hour, extract_min\n",
        "    minutes = extract_hour(time) * 60 + extract_min(time)\n",
        "    return minutes"
      ]
    },
    {
      "cell_type": "code",
      "execution_count": 35,
      "id": "f38df78d",
      "metadata": {
        "deletable": false,
        "editable": false,
        "colab": {
          "base_uri": "https://localhost:8080/",
          "height": 141
        },
        "id": "f38df78d",
        "outputId": "26423380-d99e-4c03-b4fd-f53c56adf2b9"
      },
      "outputs": [
        {
          "output_type": "error",
          "ename": "NameError",
          "evalue": "name 'grader' is not defined",
          "traceback": [
            "\u001b[0;31m---------------------------------------------------------------------------\u001b[0m",
            "\u001b[0;31mNameError\u001b[0m                                 Traceback (most recent call last)",
            "\u001b[0;32m<ipython-input-35-b80eceb19b45>\u001b[0m in \u001b[0;36m<cell line: 1>\u001b[0;34m()\u001b[0m\n\u001b[0;32m----> 1\u001b[0;31m \u001b[0mgrader\u001b[0m\u001b[0;34m.\u001b[0m\u001b[0mcheck\u001b[0m\u001b[0;34m(\u001b[0m\u001b[0;34m\"q3b\"\u001b[0m\u001b[0;34m)\u001b[0m\u001b[0;34m\u001b[0m\u001b[0;34m\u001b[0m\u001b[0m\n\u001b[0m",
            "\u001b[0;31mNameError\u001b[0m: name 'grader' is not defined"
          ]
        }
      ],
      "source": [
        "grader.check(\"q3b\")"
      ]
    },
    {
      "cell_type": "markdown",
      "id": "d98bd7ed",
      "metadata": {
        "deletable": false,
        "editable": false,
        "id": "d98bd7ed"
      },
      "source": [
        "### Q3c - Calculate Delayed Flights\n",
        "\n",
        "You will add two new columns to the `flights` DataFrame that will contain the departure delay `depDelay` and arrival delay `arrDelay`.\n",
        "\n",
        "To help answer this question, implement the helper functions, `calc_time_diff`.  Make use of the functions above, e.g., `convert_to_minutes`.\n",
        "\n",
        "\n",
        "*Be careful for handling flights that that did not leave on their scheduled day indicated in the `depNextDay` and `arrNextDay` columns.*  \n",
        "These two variables are encoded as:\n",
        "* 0, left/arrived on scheduled day\n",
        "* -1, left/arrived on the day before scheduled day\n",
        "* 1, left/arrived 1 day after scheduled day\n",
        "* 2, left/arrived 2 days after scheduled day\n",
        "\n",
        "\n",
        "Note, you can have *negative* flight delays for flights that leave / arrive early.\n",
        "\n",
        "Notes:\n",
        "\n",
        "* The function should work on Series passed in as an argument.\n",
        "* The function should not have a `for` loop, if it does you will lose points!"
      ]
    },
    {
      "cell_type": "code",
      "execution_count": 36,
      "id": "290df527",
      "metadata": {
        "tags": [],
        "id": "290df527"
      },
      "outputs": [],
      "source": [
        "def calc_time_diff(x, y, nextDay):\n",
        "    \"\"\"\n",
        "    Calculate the time difference, y - x, accounting for nextDay changes.\n",
        "\n",
        "    Input:\n",
        "        x,y (float64 or int64): Series of scheduled time given in hhmm format.\n",
        "          Takes on values in 0.0-2400.0 due to float64 representation or\n",
        "          values in 0-2400 in int64 representation\n",
        "        nextDay (int): Series of next day indicator, takes on values: -1, 0, 1, 2\n",
        "\n",
        "    Returns:\n",
        "        array (float64): Series of input dimension with delay time\n",
        "\n",
        "\n",
        "    Example: 1303 is converted to 783\n",
        "             1305 is converted to 785\n",
        "    >>> calc_time_diff(pd.Series([1303]), pd.Series([1305]), pd.Series([0]))\n",
        "    2\n",
        "\n",
        "    Example: 2320.0 is converted to 1400.0\n",
        "               37.0 is converted to    37.0\n",
        "    >>> calc_time_diff(pd.Series([2320.0]), pd.Series([37.0]), pd.Series([1]))\n",
        "    77.0\n",
        "    \"\"\"\n",
        "    # make use of the convert_to_minutes function\n",
        "\n",
        "    diff = convert_to_minutes(y) - convert_to_minutes(x) + nextDay * 24 * 60\n",
        "\n",
        "    return diff"
      ]
    },
    {
      "cell_type": "code",
      "execution_count": 37,
      "id": "7362c689",
      "metadata": {
        "id": "7362c689",
        "tags": []
      },
      "outputs": [],
      "source": [
        "flights['depDelay'] = calc_time_diff(flights['crsDepTime'], flights['actDepTime'], flights['depNextDay'])\n",
        "flights['arrDelay'] = calc_time_diff(flights['crsArrTime'], flights['actArrTime'], flights['arrNextDay'])"
      ]
    },
    {
      "cell_type": "code",
      "execution_count": 38,
      "id": "d5928dda",
      "metadata": {
        "deletable": false,
        "editable": false,
        "colab": {
          "base_uri": "https://localhost:8080/",
          "height": 141
        },
        "id": "d5928dda",
        "outputId": "11bb628d-bca1-44e3-ec3f-b55f580d23ab"
      },
      "outputs": [
        {
          "output_type": "error",
          "ename": "NameError",
          "evalue": "name 'grader' is not defined",
          "traceback": [
            "\u001b[0;31m---------------------------------------------------------------------------\u001b[0m",
            "\u001b[0;31mNameError\u001b[0m                                 Traceback (most recent call last)",
            "\u001b[0;32m<ipython-input-38-134bcef47075>\u001b[0m in \u001b[0;36m<cell line: 1>\u001b[0;34m()\u001b[0m\n\u001b[0;32m----> 1\u001b[0;31m \u001b[0mgrader\u001b[0m\u001b[0;34m.\u001b[0m\u001b[0mcheck\u001b[0m\u001b[0;34m(\u001b[0m\u001b[0;34m\"q3c\"\u001b[0m\u001b[0;34m)\u001b[0m\u001b[0;34m\u001b[0m\u001b[0;34m\u001b[0m\u001b[0m\n\u001b[0m",
            "\u001b[0;31mNameError\u001b[0m: name 'grader' is not defined"
          ]
        }
      ],
      "source": [
        "grader.check(\"q3c\")"
      ]
    },
    {
      "cell_type": "markdown",
      "id": "7f82e6e5",
      "metadata": {
        "id": "7f82e6e5"
      },
      "source": [
        "## Q4 - Patterns of Delays\n",
        "\n",
        "Next, you will examine if there are any patterns in the delays.  \n"
      ]
    },
    {
      "cell_type": "markdown",
      "id": "1f185f29",
      "metadata": {
        "deletable": false,
        "editable": false,
        "id": "1f185f29"
      },
      "source": [
        "### Q4a - Delay Statistics"
      ]
    },
    {
      "cell_type": "markdown",
      "id": "34c35b70",
      "metadata": {
        "deletable": false,
        "editable": false,
        "id": "34c35b70"
      },
      "source": [
        "Present the mean, standard deviation, and median for departure and arrival delays for each airport, `DTW` and `ORD` as a destination in a DataFrame.\n",
        "\n",
        "Repeat the results where each airport, `DTW` and `ORD`, is the origin.\n",
        "\n",
        "**NOTE: all the meaningful autograded tests are hidden for this problem.**\n",
        "\n",
        "**Hint** You should consider using `groupby`\n",
        "\n",
        "The DataFrame you create should look something like (note the values are not correct):\n",
        "\n",
        "<img src=\"img/q4a_sample.png\" width=\"60%\">"
      ]
    },
    {
      "cell_type": "code",
      "execution_count": 39,
      "id": "a5537847",
      "metadata": {
        "colab": {
          "base_uri": "https://localhost:8080/"
        },
        "id": "a5537847",
        "outputId": "4c0424d6-477c-4fda-cd9b-d6352b1ffc7f",
        "tags": []
      },
      "outputs": [
        {
          "output_type": "stream",
          "name": "stdout",
          "text": [
            "      arrDelayMean  arrDelayStd  arrDelayMedian  depDelayMean  depDelayStd  \\\n",
            "dest                                                                         \n",
            "DTW       2.787819    59.409565            -9.0      9.894332    57.977394   \n",
            "ORD       5.694147    64.246408            -8.0     11.945618    62.684013   \n",
            "\n",
            "      depDelayMedian  \n",
            "dest                  \n",
            "DTW             -3.0  \n",
            "ORD             -3.0  \n",
            "        arrDelayMean  arrDelayStd  arrDelayMedian  depDelayMean  depDelayStd  \\\n",
            "origin                                                                         \n",
            "DTW         2.327043    49.265181            -8.0      9.997700    47.026467   \n",
            "ORD         5.302535    51.318237            -7.0     11.746635    49.081207   \n",
            "\n",
            "        depDelayMedian  \n",
            "origin                  \n",
            "DTW               -2.0  \n",
            "ORD               -2.0  \n"
          ]
        }
      ],
      "source": [
        "# Calculate the mean, std, and median Depature Delay for flights leaving DTW/ORD\n",
        "# Calculate the mean, std, and median Delay for flights arriving at DTW/ORD\n",
        "# Report in requested DataFrames\n",
        "\n",
        "destDelays = flights.groupby('dest').agg(\n",
        "    arrDelayMean=('arrDelay', 'mean'),\n",
        "    arrDelayStd=('arrDelay', 'std'),\n",
        "    arrDelayMedian=('arrDelay', 'median'),\n",
        "    depDelayMean=('depDelay', 'mean'),\n",
        "    depDelayStd=('depDelay', 'std'),\n",
        "    depDelayMedian=('depDelay', 'median')\n",
        ")\n",
        "destDelays = destDelays.loc[['DTW', 'ORD']]  # Select only DTW and ORD\n",
        "\n",
        "originDelays = flights.groupby('origin').agg(\n",
        "    arrDelayMean=('arrDelay', 'mean'),\n",
        "    arrDelayStd=('arrDelay', 'std'),\n",
        "    arrDelayMedian=('arrDelay', 'median'),\n",
        "    depDelayMean=('depDelay', 'mean'),\n",
        "    depDelayStd=('depDelay', 'std'),\n",
        "    depDelayMedian=('depDelay', 'median')\n",
        ")\n",
        "originDelays = originDelays.loc[['DTW', 'ORD']]  # Select only DTW and ORD\n",
        "\n",
        "print(destDelays)\n",
        "print(originDelays)"
      ]
    },
    {
      "cell_type": "code",
      "execution_count": 40,
      "id": "bc13c67c",
      "metadata": {
        "deletable": false,
        "editable": false,
        "colab": {
          "base_uri": "https://localhost:8080/",
          "height": 141
        },
        "id": "bc13c67c",
        "outputId": "0229c21c-b754-4c76-db67-b3009b781132"
      },
      "outputs": [
        {
          "output_type": "error",
          "ename": "NameError",
          "evalue": "name 'grader' is not defined",
          "traceback": [
            "\u001b[0;31m---------------------------------------------------------------------------\u001b[0m",
            "\u001b[0;31mNameError\u001b[0m                                 Traceback (most recent call last)",
            "\u001b[0;32m<ipython-input-40-2310e420d172>\u001b[0m in \u001b[0;36m<cell line: 1>\u001b[0;34m()\u001b[0m\n\u001b[0;32m----> 1\u001b[0;31m \u001b[0mgrader\u001b[0m\u001b[0;34m.\u001b[0m\u001b[0mcheck\u001b[0m\u001b[0;34m(\u001b[0m\u001b[0;34m\"q4a\"\u001b[0m\u001b[0;34m)\u001b[0m\u001b[0;34m\u001b[0m\u001b[0;34m\u001b[0m\u001b[0m\n\u001b[0m",
            "\u001b[0;31mNameError\u001b[0m: name 'grader' is not defined"
          ]
        }
      ],
      "source": [
        "grader.check(\"q4a\")"
      ]
    },
    {
      "cell_type": "markdown",
      "id": "37b302b5-1708-48d3-9613-4b931d596cdc",
      "metadata": {
        "deletable": false,
        "editable": false,
        "id": "37b302b5-1708-48d3-9613-4b931d596cdc"
      },
      "source": [
        "<!-- BEGIN QUESTION -->\n",
        "\n",
        "### Q4b - Distribution of Departure Delays\n",
        "\n",
        "Let's look at the distribution of departure delays for flights leaving `DTW` and `ORD`.\n",
        "\n",
        "Create overlapping density plots to examine these distributions. Only show the delays from -25 to 50 minutes.\n",
        "\n",
        "**Hint** Try using seaborns `kdeplot`"
      ]
    },
    {
      "cell_type": "code",
      "execution_count": 41,
      "id": "8a9c286c-6b0e-4e5c-bb50-36f76dcfecc6",
      "metadata": {
        "tags": [],
        "colab": {
          "base_uri": "https://localhost:8080/",
          "height": 564
        },
        "id": "8a9c286c-6b0e-4e5c-bb50-36f76dcfecc6",
        "outputId": "9d1f6229-415e-4062-b13e-d7f8eb104a60"
      },
      "outputs": [
        {
          "output_type": "display_data",
          "data": {
            "text/plain": [
              "<Figure size 800x600 with 1 Axes>"
            ],
            "image/png": "[encoded data removed]"
          },
          "metadata": {}
        }
      ],
      "source": [
        "dtw_flights = flights[flights['origin'] == 'DTW']\n",
        "ord_flights = flights[flights['origin'] == 'ORD']\n",
        "\n",
        "# Create density plots\n",
        "plt.figure(figsize=(8, 6))  # Adjust figure size if needed\n",
        "sns.kdeplot(dtw_flights['depDelay'], label='DTW', clip=(-25, 50))\n",
        "sns.kdeplot(ord_flights['depDelay'], label='ORD', clip=(-25, 50))\n",
        "\n",
        "# Customize the plot\n",
        "plt.xlabel('Departure Delay (minutes)')\n",
        "plt.ylabel('Density')\n",
        "plt.title('Distribution of Departure Delays for DTW and ORD')\n",
        "plt.legend()\n",
        "plt.xlim(-25, 50)  # Set x-axis limits\n",
        "\n",
        "# Show the plot\n",
        "plt.show()"
      ]
    },
    {
      "cell_type": "markdown",
      "id": "c3fe4328",
      "metadata": {
        "deletable": false,
        "editable": false,
        "id": "c3fe4328"
      },
      "source": [
        "<!-- END QUESTION -->\n",
        "\n",
        "<!-- BEGIN QUESTION -->\n",
        "\n",
        "### Q4c - Departure Delays by Day of Week\n",
        "\n",
        "Let's examine if the departure delays differ by which day a flight is scheduled to leave.\n",
        "\n",
        "Create a bar chart showing the mean departure delay for each day of the week. Report mean delays for Sun., Mon., Tues., ...\n",
        "\n",
        "In order to get the day of the week, create a two new columns `dateVal` that is a datetime object of the date information of the flight.  Also, create a column `dayOfWeek` that encodes the day of the week for the flight.  You can make use of functions to convert datetime to day of the week.\n",
        "\n",
        "We are looking at departure delays for flights leaving from ORD.\n"
      ]
    },
    {
      "cell_type": "code",
      "execution_count": 42,
      "id": "93e3ca35",
      "metadata": {
        "colab": {
          "base_uri": "https://localhost:8080/",
          "height": 564
        },
        "id": "93e3ca35",
        "outputId": "761e2965-a1c9-4f62-919a-3799f91cf605",
        "tags": []
      },
      "outputs": [
        {
          "output_type": "display_data",
          "data": {
            "text/plain": [
              "<Figure size 800x600 with 1 Axes>"
            ],
            "image/png": "[encoded data removed]"
          },
          "metadata": {}
        }
      ],
      "source": [
        "# Look at departure delays for flights leaving ORD\n",
        "# Create a new column \"dateVal\" with a datetime object that may be useful\n",
        "#  for this questions.  Also, add a column for \"dayOfWeek\"\n",
        "\n",
        "# Create a bar chart of the mean `depDelay` by day of the week: Mon., Tues., ...\n",
        "\n",
        "\n",
        "flights['dateVal'] = pd.to_datetime(flights[['year', 'month', 'day']])\n",
        "\n",
        "# Create 'dayOfWeek' column (0=Sunday, 1=Monday, ..., 6=Saturday)\n",
        "flights['dayOfWeek'] = flights['dateVal'].dt.dayofweek\n",
        "\n",
        "# Filter for flights departing from ORD\n",
        "ord_flights = flights[flights['origin'] == 'ORD']\n",
        "\n",
        "# Calculate mean departure delay by day of week\n",
        "mean_delays = ord_flights.groupby('dayOfWeek')['depDelay'].mean()\n",
        "\n",
        "# Create bar chart\n",
        "plt.figure(figsize=(8, 6))\n",
        "sns.barplot(x=mean_delays.index, y=mean_delays.values)\n",
        "\n",
        "# Customize the plot\n",
        "plt.xlabel('Day of Week')\n",
        "plt.ylabel('Mean Departure Delay (minutes)')\n",
        "plt.title('Mean Departure Delay by Day of Week for Flights Leaving ORD')\n",
        "plt.xticks(ticks=range(7), labels=['Sun', 'Mon', 'Tue', 'Wed', 'Thu', 'Fri', 'Sat'])\n",
        "\n",
        "# Show the plot\n",
        "plt.show()\n"
      ]
    },
    {
      "cell_type": "code",
      "execution_count": null,
      "id": "73e64042",
      "metadata": {
        "deletable": false,
        "editable": false,
        "id": "73e64042"
      },
      "outputs": [],
      "source": [
        "grader.check(\"q4c\")"
      ]
    },
    {
      "cell_type": "markdown",
      "id": "3084bec8",
      "metadata": {
        "deletable": false,
        "editable": false,
        "id": "3084bec8"
      },
      "source": [
        "<!-- END QUESTION -->\n",
        "\n",
        "<!-- BEGIN QUESTION -->\n",
        "\n",
        "### Q4d - Dept. Delays by Month\n",
        "\n",
        "Next, let's examine if the depature delays differ by month of the year.\n",
        "\n",
        "Create a bar chart showing the mean departure delay for each month of the year (Jan, Feb, Mar, Apr, ...)\n",
        "\n",
        "We again are looking at departure delays for flights leaving from ORD."
      ]
    },
    {
      "cell_type": "code",
      "execution_count": 43,
      "id": "9d6ce9d7",
      "metadata": {
        "colab": {
          "base_uri": "https://localhost:8080/",
          "height": 564
        },
        "id": "9d6ce9d7",
        "outputId": "043f1870-e578-47ee-eb49-74cd5bfbe9fc",
        "tags": []
      },
      "outputs": [
        {
          "output_type": "display_data",
          "data": {
            "text/plain": [
              "<Figure size 800x600 with 1 Axes>"
            ],
            "image/png": "[encoded data removed]"
          },
          "metadata": {}
        }
      ],
      "source": [
        "# Create a bar plot with the mean dep. delay for each month.\n",
        "ord_flights = flights[flights['origin'] == 'ORD']\n",
        "\n",
        "# Calculate mean departure delay by month\n",
        "mean_delays_by_month = ord_flights.groupby('month')['depDelay'].mean()\n",
        "\n",
        "# Create bar chart\n",
        "plt.figure(figsize=(8, 6))  # Adjust figure size if needed\n",
        "sns.barplot(x=mean_delays_by_month.index, y=mean_delays_by_month.values)\n",
        "\n",
        "# Customize the plot\n",
        "plt.xlabel('Month')\n",
        "plt.ylabel('Mean Departure Delay (minutes)')\n",
        "plt.title('Mean Departure Delay by Month for Flights Leaving ORD')\n",
        "plt.xticks(ticks=range(1, 13), labels=['Jan', 'Feb', 'Mar', 'Apr', 'May', 'Jun', 'Jul', 'Aug', 'Sep', 'Oct', 'Nov', 'Dec'])\n",
        "\n",
        "# Show the plot\n",
        "plt.show()"
      ]
    },
    {
      "cell_type": "markdown",
      "id": "3d4ace9a",
      "metadata": {
        "deletable": false,
        "editable": false,
        "id": "3d4ace9a"
      },
      "source": [
        "<!-- END QUESTION -->\n",
        "\n",
        "### Q4e - Most Delayed Routes\n",
        "\n",
        "Let's examine the routes that are most delayed.\n",
        "\n",
        "Report out a DataSeries, `most_delay_routeA`,  with the airport as it's index and the value the mean arrival delay, only consider flights departing from `ORD` and routes that have at least 200 flights.\n",
        "\n",
        "Sort the DataSeries in descending order.\n",
        "\n",
        "\n",
        "Repeat the analysis for `DTW`, but use departure delay, report results in `most_delay_routeB` DataSeries.\n"
      ]
    },
    {
      "cell_type": "code",
      "execution_count": 48,
      "id": "87dd373a",
      "metadata": {
        "id": "87dd373a",
        "tags": []
      },
      "outputs": [],
      "source": [
        "# Create a line chart plotting the mean dep. delay over time for each month\n",
        "#  of the 6 years\n",
        "\n",
        "\n",
        "# For ORD (arrival delay)\n",
        "most_delay_routeA = (flights[flights['origin'] == 'ORD']\n",
        "                      .groupby('dest')['arrDelay']\n",
        "                      .agg(['mean', 'count'])\n",
        "                      .loc[lambda x: x[('count')] >= 200]  # Filter based on count\n",
        "                      .sort_values(by=[('mean')], ascending=False)  # Sort by mean\n",
        "                      [('mean')])  # Select the mean column\n",
        "\n",
        "# For DTW (departure delay)\n",
        "most_delay_routeB = (flights[flights['origin'] == 'DTW']\n",
        "                      .groupby('dest')['depDelay']\n",
        "                      .agg(['mean', 'count'])\n",
        "                      .loc[lambda x: x[('count')] >= 200]  # Filter based on count\n",
        "                      .sort_values(by=[('mean')], ascending=False)  # Sort by mean\n",
        "                      [('mean')])  # Select the mean column"
      ]
    },
    {
      "cell_type": "code",
      "execution_count": 49,
      "id": "a8e02da9-d768-49d2-95cf-79f9a3766c82",
      "metadata": {
        "tags": [],
        "colab": {
          "base_uri": "https://localhost:8080/",
          "height": 490
        },
        "id": "a8e02da9-d768-49d2-95cf-79f9a3766c82",
        "outputId": "cdf37749-ecfb-4fc8-e22d-b7281e024fd2"
      },
      "outputs": [
        {
          "output_type": "execute_result",
          "data": {
            "text/plain": [
              "dest\n",
              "JST    27.169935\n",
              "ASE    23.138562\n",
              "AVP    18.191318\n",
              "JLN    16.776632\n",
              "ABE    14.748982\n",
              "         ...    \n",
              "SJC    -3.222527\n",
              "MKG    -5.089041\n",
              "SNA    -5.346746\n",
              "HNL    -6.494475\n",
              "MCW    -9.352837\n",
              "Name: mean, Length: 138, dtype: float64"
            ],
            "text/html": [
              "<div>\n",
              "<style scoped>\n",
              "    .dataframe tbody tr th:only-of-type {\n",
              "        vertical-align: middle;\n",
              "    }\n",
              "\n",
              "    .dataframe tbody tr th {\n",
              "        vertical-align: top;\n",
              "    }\n",
              "\n",
              "    .dataframe thead th {\n",
              "        text-align: right;\n",
              "    }\n",
              "</style>\n",
              "<table border=\"1\" class=\"dataframe\">\n",
              "  <thead>\n",
              "    <tr style=\"text-align: right;\">\n",
              "      <th></th>\n",
              "      <th>mean</th>\n",
              "    </tr>\n",
              "    <tr>\n",
              "      <th>dest</th>\n",
              "      <th></th>\n",
              "    </tr>\n",
              "  </thead>\n",
              "  <tbody>\n",
              "    <tr>\n",
              "      <th>JST</th>\n",
              "      <td>27.169935</td>\n",
              "    </tr>\n",
              "    <tr>\n",
              "      <th>ASE</th>\n",
              "      <td>23.138562</td>\n",
              "    </tr>\n",
              "    <tr>\n",
              "      <th>AVP</th>\n",
              "      <td>18.191318</td>\n",
              "    </tr>\n",
              "    <tr>\n",
              "      <th>JLN</th>\n",
              "      <td>16.776632</td>\n",
              "    </tr>\n",
              "    <tr>\n",
              "      <th>ABE</th>\n",
              "      <td>14.748982</td>\n",
              "    </tr>\n",
              "    <tr>\n",
              "      <th>...</th>\n",
              "      <td>...</td>\n",
              "    </tr>\n",
              "    <tr>\n",
              "      <th>SJC</th>\n",
              "      <td>-3.222527</td>\n",
              "    </tr>\n",
              "    <tr>\n",
              "      <th>MKG</th>\n",
              "      <td>-5.089041</td>\n",
              "    </tr>\n",
              "    <tr>\n",
              "      <th>SNA</th>\n",
              "      <td>-5.346746</td>\n",
              "    </tr>\n",
              "    <tr>\n",
              "      <th>HNL</th>\n",
              "      <td>-6.494475</td>\n",
              "    </tr>\n",
              "    <tr>\n",
              "      <th>MCW</th>\n",
              "      <td>-9.352837</td>\n",
              "    </tr>\n",
              "  </tbody>\n",
              "</table>\n",
              "<p>138 rows × 1 columns</p>\n",
              "</div><br><label><b>dtype:</b> float64</label>"
            ]
          },
          "metadata": {},
          "execution_count": 49
        }
      ],
      "source": [
        "most_delay_routeA"
      ]
    },
    {
      "cell_type": "code",
      "source": [
        "# Calculate the mean, std, and median Depature Delay for flights leaving DTW/ORD\n",
        "# Calculate the mean, std, and median Delay for flights arriving at DTW/ORD\n",
        "# Report in requested DataFrames\n",
        "\n",
        "delay_routes = flights.groupby(['origin', 'dest'])[['depDelay', 'arrDelay']].agg(['mean', 'std', 'median', 'count'])\n",
        "\n",
        "most_delay_routeA = (delay_routes\n",
        "                      .loc[delay_routes[('arrDelay', 'count')] >= 200, ('arrDelay', 'mean')]\n",
        "                      .sort_values(ascending=False))\n",
        "\n",
        "most_delay_routeB = (delay_routes\n",
        "                      .loc[delay_routes[('depDelay', 'count')] >= 200, ('depDelay', 'mean')]\n",
        "                      .sort_values(ascending=False)\n",
        ")"
      ],
      "metadata": {
        "id": "vM20EzVNHO4G"
      },
      "id": "vM20EzVNHO4G",
      "execution_count": 51,
      "outputs": []
    },
    {
      "cell_type": "code",
      "execution_count": 52,
      "id": "70342e67-58f7-4582-a1dc-c08493225e60",
      "metadata": {
        "tags": [],
        "colab": {
          "base_uri": "https://localhost:8080/"
        },
        "id": "70342e67-58f7-4582-a1dc-c08493225e60",
        "outputId": "1a4126fa-6c4f-4715-c50c-a090cdc4ff66"
      },
      "outputs": [
        {
          "output_type": "execute_result",
          "data": {
            "text/plain": [
              "(470, 8)"
            ]
          },
          "metadata": {},
          "execution_count": 52
        }
      ],
      "source": [
        "delay_routes.loc[(delay_routes[('depDelay', 'count')] > 200)].shape"
      ]
    },
    {
      "cell_type": "code",
      "execution_count": 53,
      "id": "1b46c4ab",
      "metadata": {
        "deletable": false,
        "editable": false,
        "colab": {
          "base_uri": "https://localhost:8080/",
          "height": 141
        },
        "id": "1b46c4ab",
        "outputId": "da986aaf-a407-47e5-96e7-f65cfdafcd05"
      },
      "outputs": [
        {
          "output_type": "error",
          "ename": "NameError",
          "evalue": "name 'grader' is not defined",
          "traceback": [
            "\u001b[0;31m---------------------------------------------------------------------------\u001b[0m",
            "\u001b[0;31mNameError\u001b[0m                                 Traceback (most recent call last)",
            "\u001b[0;32m<ipython-input-53-3cc8223f9891>\u001b[0m in \u001b[0;36m<cell line: 1>\u001b[0;34m()\u001b[0m\n\u001b[0;32m----> 1\u001b[0;31m \u001b[0mgrader\u001b[0m\u001b[0;34m.\u001b[0m\u001b[0mcheck\u001b[0m\u001b[0;34m(\u001b[0m\u001b[0;34m\"q4e\"\u001b[0m\u001b[0;34m)\u001b[0m\u001b[0;34m\u001b[0m\u001b[0;34m\u001b[0m\u001b[0m\n\u001b[0m",
            "\u001b[0;31mNameError\u001b[0m: name 'grader' is not defined"
          ]
        }
      ],
      "source": [
        "grader.check(\"q4e\")"
      ]
    },
    {
      "cell_type": "markdown",
      "id": "c56a603b-3f89-4212-8a8e-c7df1c21bc99",
      "metadata": {
        "deletable": false,
        "editable": false,
        "id": "c56a603b-3f89-4212-8a8e-c7df1c21bc99"
      },
      "source": [
        "### Q4f - Delays by Carrier\n",
        "\n",
        "Because `ORD` is a United Hub and `DTW` is a Delta Hub we expect to see the delays grouped by airport may also be similar to the delays grouped by carrier.  Let's examine this.\n",
        "\n",
        "Consider all flights, not just those arriving or departing from `ORD` and `DTW`.  Report out the mean, standard deviation, and median arrival and departure delays for each carrier in a DataFrame.\n",
        "\n",
        "Label the carriers with their name, not code.\n",
        "\n",
        "| Airline Code | Airline Name | Regional Partner |\n",
        "|--------------|--------------|------------------|\n",
        "| UA      | United Airlines   | NA  |\n",
        "| DL      | Delta Airlines    | NA  |\n",
        "| OO      | Skywest Airlines  | United  |\n",
        "| 9E      | Endeavor Air      | Delta     |\n",
        "\n",
        "The DataFrame `carrierDelays` has columns: `carrier`, `arrDelayMean`, `arrDelayStd`, `arrDelayMedian`,\n",
        "`depDelayMean`, `depDelayStd`, `depDelayMedian`\n",
        "\n",
        "Sort the DataFrame by increasing mean arrival  delays."
      ]
    },
    {
      "cell_type": "code",
      "execution_count": 54,
      "id": "8aeefb39-e0a0-4de3-bcbe-2e64b5c37ec5",
      "metadata": {
        "tags": [],
        "colab": {
          "base_uri": "https://localhost:8080/",
          "height": 206
        },
        "id": "8aeefb39-e0a0-4de3-bcbe-2e64b5c37ec5",
        "outputId": "3db8d342-d025-4406-b197-6385f5b4de31"
      },
      "outputs": [
        {
          "output_type": "execute_result",
          "data": {
            "text/plain": [
              "                  arrDelayMean  arrDelayStd  arrDelayMedian  depDelayMean  \\\n",
              "carrier                                                                     \n",
              "Endeavor Air         -0.640469    49.251744           -10.0      6.041726   \n",
              "Delta Airlines        1.954484    50.207973            -9.0      9.891461   \n",
              "United Airlines       4.177474    51.646764            -7.0     11.224120   \n",
              "Skywest Airlines      7.926424    68.812359            -7.0     13.294421   \n",
              "\n",
              "                  depDelayStd  depDelayMedian  \n",
              "carrier                                        \n",
              "Endeavor Air        47.087092            -4.0  \n",
              "Delta Airlines      48.154017            -2.0  \n",
              "United Airlines     49.727298            -2.0  \n",
              "Skywest Airlines    67.310415            -3.0  "
            ],
            "text/html": [
              "\n",
              "  <div id=\"df-0a8854e5-b58b-4b0e-b1e5-410796b78c75\" class=\"colab-df-container\">\n",
              "    <div>\n",
              "<style scoped>\n",
              "    .dataframe tbody tr th:only-of-type {\n",
              "        vertical-align: middle;\n",
              "    }\n",
              "\n",
              "    .dataframe tbody tr th {\n",
              "        vertical-align: top;\n",
              "    }\n",
              "\n",
              "    .dataframe thead th {\n",
              "        text-align: right;\n",
              "    }\n",
              "</style>\n",
              "<table border=\"1\" class=\"dataframe\">\n",
              "  <thead>\n",
              "    <tr style=\"text-align: right;\">\n",
              "      <th></th>\n",
              "      <th>arrDelayMean</th>\n",
              "      <th>arrDelayStd</th>\n",
              "      <th>arrDelayMedian</th>\n",
              "      <th>depDelayMean</th>\n",
              "      <th>depDelayStd</th>\n",
              "      <th>depDelayMedian</th>\n",
              "    </tr>\n",
              "    <tr>\n",
              "      <th>carrier</th>\n",
              "      <th></th>\n",
              "      <th></th>\n",
              "      <th></th>\n",
              "      <th></th>\n",
              "      <th></th>\n",
              "      <th></th>\n",
              "    </tr>\n",
              "  </thead>\n",
              "  <tbody>\n",
              "    <tr>\n",
              "      <th>Endeavor Air</th>\n",
              "      <td>-0.640469</td>\n",
              "      <td>49.251744</td>\n",
              "      <td>-10.0</td>\n",
              "      <td>6.041726</td>\n",
              "      <td>47.087092</td>\n",
              "      <td>-4.0</td>\n",
              "    </tr>\n",
              "    <tr>\n",
              "      <th>Delta Airlines</th>\n",
              "      <td>1.954484</td>\n",
              "      <td>50.207973</td>\n",
              "      <td>-9.0</td>\n",
              "      <td>9.891461</td>\n",
              "      <td>48.154017</td>\n",
              "      <td>-2.0</td>\n",
              "    </tr>\n",
              "    <tr>\n",
              "      <th>United Airlines</th>\n",
              "      <td>4.177474</td>\n",
              "      <td>51.646764</td>\n",
              "      <td>-7.0</td>\n",
              "      <td>11.224120</td>\n",
              "      <td>49.727298</td>\n",
              "      <td>-2.0</td>\n",
              "    </tr>\n",
              "    <tr>\n",
              "      <th>Skywest Airlines</th>\n",
              "      <td>7.926424</td>\n",
              "      <td>68.812359</td>\n",
              "      <td>-7.0</td>\n",
              "      <td>13.294421</td>\n",
              "      <td>67.310415</td>\n",
              "      <td>-3.0</td>\n",
              "    </tr>\n",
              "  </tbody>\n",
              "</table>\n",
              "</div>\n",
              "    <div class=\"colab-df-buttons\">\n",
              "\n",
              "  <div class=\"colab-df-container\">\n",
              "    <button class=\"colab-df-convert\" onclick=\"convertToInteractive('df-0a8854e5-b58b-4b0e-b1e5-410796b78c75')\"\n",
              "            title=\"Convert this dataframe to an interactive table.\"\n",
              "            style=\"display:none;\">\n",
              "\n",
              "  <svg xmlns=\"http://www.w3.org/2000/svg\" height=\"24px\" viewBox=\"0 -960 960 960\">\n",
              "    <path d=\"M120-120v-720h720v720H120Zm60-500h600v-160H180v160Zm220 220h160v-160H400v160Zm0 220h160v-160H400v160ZM180-400h160v-160H180v160Zm440 0h160v-160H620v160ZM180-180h160v-160H180v160Zm440 0h160v-160H620v160Z\"/>\n",
              "  </svg>\n",
              "    </button>\n",
              "\n",
              "  <style>\n",
              "    .colab-df-container {\n",
              "      display:flex;\n",
              "      gap: 12px;\n",
              "    }\n",
              "\n",
              "    .colab-df-convert {\n",
              "      background-color: #E8F0FE;\n",
              "      border: none;\n",
              "      border-radius: 50%;\n",
              "      cursor: pointer;\n",
              "      display: none;\n",
              "      fill: #1967D2;\n",
              "      height: 32px;\n",
              "      padding: 0 0 0 0;\n",
              "      width: 32px;\n",
              "    }\n",
              "\n",
              "    .colab-df-convert:hover {\n",
              "      background-color: #E2EBFA;\n",
              "      box-shadow: 0px 1px 2px rgba(60, 64, 67, 0.3), 0px 1px 3px 1px rgba(60, 64, 67, 0.15);\n",
              "      fill: #174EA6;\n",
              "    }\n",
              "\n",
              "    .colab-df-buttons div {\n",
              "      margin-bottom: 4px;\n",
              "    }\n",
              "\n",
              "    [theme=dark] .colab-df-convert {\n",
              "      background-color: #3B4455;\n",
              "      fill: #D2E3FC;\n",
              "    }\n",
              "\n",
              "    [theme=dark] .colab-df-convert:hover {\n",
              "      background-color: #434B5C;\n",
              "      box-shadow: 0px 1px 3px 1px rgba(0, 0, 0, 0.15);\n",
              "      filter: drop-shadow(0px 1px 2px rgba(0, 0, 0, 0.3));\n",
              "      fill: #FFFFFF;\n",
              "    }\n",
              "  </style>\n",
              "\n",
              "    <script>\n",
              "      const buttonEl =\n",
              "        document.querySelector('#df-0a8854e5-b58b-4b0e-b1e5-410796b78c75 button.colab-df-convert');\n",
              "      buttonEl.style.display =\n",
              "        google.colab.kernel.accessAllowed ? 'block' : 'none';\n",
              "\n",
              "      async function convertToInteractive(key) {\n",
              "        const element = document.querySelector('#df-0a8854e5-b58b-4b0e-b1e5-410796b78c75');\n",
              "        const dataTable =\n",
              "          await google.colab.kernel.invokeFunction('convertToInteractive',\n",
              "                                                    [key], {});\n",
              "        if (!dataTable) return;\n",
              "\n",
              "        const docLinkHtml = 'Like what you see? Visit the ' +\n",
              "          '<a target=\"_blank\" href=https://colab.research.google.com/notebooks/data_table.ipynb>data table notebook</a>'\n",
              "          + ' to learn more about interactive tables.';\n",
              "        element.innerHTML = '';\n",
              "        dataTable['output_type'] = 'display_data';\n",
              "        await google.colab.output.renderOutput(dataTable, element);\n",
              "        const docLink = document.createElement('div');\n",
              "        docLink.innerHTML = docLinkHtml;\n",
              "        element.appendChild(docLink);\n",
              "      }\n",
              "    </script>\n",
              "  </div>\n",
              "\n",
              "\n",
              "<div id=\"df-88197fd6-675c-433c-876d-784786c13832\">\n",
              "  <button class=\"colab-df-quickchart\" onclick=\"quickchart('df-88197fd6-675c-433c-876d-784786c13832')\"\n",
              "            title=\"Suggest charts\"\n",
              "            style=\"display:none;\">\n",
              "\n",
              "<svg xmlns=\"http://www.w3.org/2000/svg\" height=\"24px\"viewBox=\"0 0 24 24\"\n",
              "     width=\"24px\">\n",
              "    <g>\n",
              "        <path d=\"M19 3H5c-1.1 0-2 .9-2 2v14c0 1.1.9 2 2 2h14c1.1 0 2-.9 2-2V5c0-1.1-.9-2-2-2zM9 17H7v-7h2v7zm4 0h-2V7h2v10zm4 0h-2v-4h2v4z\"/>\n",
              "    </g>\n",
              "</svg>\n",
              "  </button>\n",
              "\n",
              "<style>\n",
              "  .colab-df-quickchart {\n",
              "      --bg-color: #E8F0FE;\n",
              "      --fill-color: #1967D2;\n",
              "      --hover-bg-color: #E2EBFA;\n",
              "      --hover-fill-color: #174EA6;\n",
              "      --disabled-fill-color: #AAA;\n",
              "      --disabled-bg-color: #DDD;\n",
              "  }\n",
              "\n",
              "  [theme=dark] .colab-df-quickchart {\n",
              "      --bg-color: #3B4455;\n",
              "      --fill-color: #D2E3FC;\n",
              "      --hover-bg-color: #434B5C;\n",
              "      --hover-fill-color: #FFFFFF;\n",
              "      --disabled-bg-color: #3B4455;\n",
              "      --disabled-fill-color: #666;\n",
              "  }\n",
              "\n",
              "  .colab-df-quickchart {\n",
              "    background-color: var(--bg-color);\n",
              "    border: none;\n",
              "    border-radius: 50%;\n",
              "    cursor: pointer;\n",
              "    display: none;\n",
              "    fill: var(--fill-color);\n",
              "    height: 32px;\n",
              "    padding: 0;\n",
              "    width: 32px;\n",
              "  }\n",
              "\n",
              "  .colab-df-quickchart:hover {\n",
              "    background-color: var(--hover-bg-color);\n",
              "    box-shadow: 0 1px 2px rgba(60, 64, 67, 0.3), 0 1px 3px 1px rgba(60, 64, 67, 0.15);\n",
              "    fill: var(--button-hover-fill-color);\n",
              "  }\n",
              "\n",
              "  .colab-df-quickchart-complete:disabled,\n",
              "  .colab-df-quickchart-complete:disabled:hover {\n",
              "    background-color: var(--disabled-bg-color);\n",
              "    fill: var(--disabled-fill-color);\n",
              "    box-shadow: none;\n",
              "  }\n",
              "\n",
              "  .colab-df-spinner {\n",
              "    border: 2px solid var(--fill-color);\n",
              "    border-color: transparent;\n",
              "    border-bottom-color: var(--fill-color);\n",
              "    animation:\n",
              "      spin 1s steps(1) infinite;\n",
              "  }\n",
              "\n",
              "  @keyframes spin {\n",
              "    0% {\n",
              "      border-color: transparent;\n",
              "      border-bottom-color: var(--fill-color);\n",
              "      border-left-color: var(--fill-color);\n",
              "    }\n",
              "    20% {\n",
              "      border-color: transparent;\n",
              "      border-left-color: var(--fill-color);\n",
              "      border-top-color: var(--fill-color);\n",
              "    }\n",
              "    30% {\n",
              "      border-color: transparent;\n",
              "      border-left-color: var(--fill-color);\n",
              "      border-top-color: var(--fill-color);\n",
              "      border-right-color: var(--fill-color);\n",
              "    }\n",
              "    40% {\n",
              "      border-color: transparent;\n",
              "      border-right-color: var(--fill-color);\n",
              "      border-top-color: var(--fill-color);\n",
              "    }\n",
              "    60% {\n",
              "      border-color: transparent;\n",
              "      border-right-color: var(--fill-color);\n",
              "    }\n",
              "    80% {\n",
              "      border-color: transparent;\n",
              "      border-right-color: var(--fill-color);\n",
              "      border-bottom-color: var(--fill-color);\n",
              "    }\n",
              "    90% {\n",
              "      border-color: transparent;\n",
              "      border-bottom-color: var(--fill-color);\n",
              "    }\n",
              "  }\n",
              "</style>\n",
              "\n",
              "  <script>\n",
              "    async function quickchart(key) {\n",
              "      const quickchartButtonEl =\n",
              "        document.querySelector('#' + key + ' button');\n",
              "      quickchartButtonEl.disabled = true;  // To prevent multiple clicks.\n",
              "      quickchartButtonEl.classList.add('colab-df-spinner');\n",
              "      try {\n",
              "        const charts = await google.colab.kernel.invokeFunction(\n",
              "            'suggestCharts', [key], {});\n",
              "      } catch (error) {\n",
              "        console.error('Error during call to suggestCharts:', error);\n",
              "      }\n",
              "      quickchartButtonEl.classList.remove('colab-df-spinner');\n",
              "      quickchartButtonEl.classList.add('colab-df-quickchart-complete');\n",
              "    }\n",
              "    (() => {\n",
              "      let quickchartButtonEl =\n",
              "        document.querySelector('#df-88197fd6-675c-433c-876d-784786c13832 button');\n",
              "      quickchartButtonEl.style.display =\n",
              "        google.colab.kernel.accessAllowed ? 'block' : 'none';\n",
              "    })();\n",
              "  </script>\n",
              "</div>\n",
              "\n",
              "  <div id=\"id_81560e48-b9e8-4820-ae10-6eba75adeedc\">\n",
              "    <style>\n",
              "      .colab-df-generate {\n",
              "        background-color: #E8F0FE;\n",
              "        border: none;\n",
              "        border-radius: 50%;\n",
              "        cursor: pointer;\n",
              "        display: none;\n",
              "        fill: #1967D2;\n",
              "        height: 32px;\n",
              "        padding: 0 0 0 0;\n",
              "        width: 32px;\n",
              "      }\n",
              "\n",
              "      .colab-df-generate:hover {\n",
              "        background-color: #E2EBFA;\n",
              "        box-shadow: 0px 1px 2px rgba(60, 64, 67, 0.3), 0px 1px 3px 1px rgba(60, 64, 67, 0.15);\n",
              "        fill: #174EA6;\n",
              "      }\n",
              "\n",
              "      [theme=dark] .colab-df-generate {\n",
              "        background-color: #3B4455;\n",
              "        fill: #D2E3FC;\n",
              "      }\n",
              "\n",
              "      [theme=dark] .colab-df-generate:hover {\n",
              "        background-color: #434B5C;\n",
              "        box-shadow: 0px 1px 3px 1px rgba(0, 0, 0, 0.15);\n",
              "        filter: drop-shadow(0px 1px 2px rgba(0, 0, 0, 0.3));\n",
              "        fill: #FFFFFF;\n",
              "      }\n",
              "    </style>\n",
              "    <button class=\"colab-df-generate\" onclick=\"generateWithVariable('carrierDelays')\"\n",
              "            title=\"Generate code using this dataframe.\"\n",
              "            style=\"display:none;\">\n",
              "\n",
              "  <svg xmlns=\"http://www.w3.org/2000/svg\" height=\"24px\"viewBox=\"0 0 24 24\"\n",
              "       width=\"24px\">\n",
              "    <path d=\"M7,19H8.4L18.45,9,17,7.55,7,17.6ZM5,21V16.75L18.45,3.32a2,2,0,0,1,2.83,0l1.4,1.43a1.91,1.91,0,0,1,.58,1.4,1.91,1.91,0,0,1-.58,1.4L9.25,21ZM18.45,9,17,7.55Zm-12,3A5.31,5.31,0,0,0,4.9,8.1,5.31,5.31,0,0,0,1,6.5,5.31,5.31,0,0,0,4.9,4.9,5.31,5.31,0,0,0,6.5,1,5.31,5.31,0,0,0,8.1,4.9,5.31,5.31,0,0,0,12,6.5,5.46,5.46,0,0,0,6.5,12Z\"/>\n",
              "  </svg>\n",
              "    </button>\n",
              "    <script>\n",
              "      (() => {\n",
              "      const buttonEl =\n",
              "        document.querySelector('#id_81560e48-b9e8-4820-ae10-6eba75adeedc button.colab-df-generate');\n",
              "      buttonEl.style.display =\n",
              "        google.colab.kernel.accessAllowed ? 'block' : 'none';\n",
              "\n",
              "      buttonEl.onclick = () => {\n",
              "        google.colab.notebook.generateWithVariable('carrierDelays');\n",
              "      }\n",
              "      })();\n",
              "    </script>\n",
              "  </div>\n",
              "\n",
              "    </div>\n",
              "  </div>\n"
            ],
            "application/vnd.google.colaboratory.intrinsic+json": {
              "type": "dataframe",
              "variable_name": "carrierDelays",
              "summary": "{\n  \"name\": \"carrierDelays\",\n  \"rows\": 4,\n  \"fields\": [\n    {\n      \"column\": \"carrier\",\n      \"properties\": {\n        \"dtype\": \"string\",\n        \"num_unique_values\": 4,\n        \"samples\": [\n          \"Delta Airlines\",\n          \"Skywest Airlines\",\n          \"Endeavor Air\"\n        ],\n        \"semantic_type\": \"\",\n        \"description\": \"\"\n      }\n    },\n    {\n      \"column\": \"arrDelayMean\",\n      \"properties\": {\n        \"dtype\": \"number\",\n        \"std\": 3.6285715340057383,\n        \"min\": -0.6404686212174732,\n        \"max\": 7.926423969924244,\n        \"num_unique_values\": 4,\n        \"samples\": [\n          1.9544839134255296,\n          7.926423969924244,\n          -0.6404686212174732\n        ],\n        \"semantic_type\": \"\",\n        \"description\": \"\"\n      }\n    },\n    {\n      \"column\": \"arrDelayStd\",\n      \"properties\": {\n        \"dtype\": \"number\",\n        \"std\": 9.274153550986442,\n        \"min\": 49.251744105043244,\n        \"max\": 68.81235901353361,\n        \"num_unique_values\": 4,\n        \"samples\": [\n          50.20797323943804,\n          68.81235901353361,\n          49.251744105043244\n        ],\n        \"semantic_type\": \"\",\n        \"description\": \"\"\n      }\n    },\n    {\n      \"column\": \"arrDelayMedian\",\n      \"properties\": {\n        \"dtype\": \"number\",\n        \"std\": 1.5,\n        \"min\": -10.0,\n        \"max\": -7.0,\n        \"num_unique_values\": 3,\n        \"samples\": [\n          -10.0,\n          -9.0,\n          -7.0\n        ],\n        \"semantic_type\": \"\",\n        \"description\": \"\"\n      }\n    },\n    {\n      \"column\": \"depDelayMean\",\n      \"properties\": {\n        \"dtype\": \"number\",\n        \"std\": 3.0539801178717747,\n        \"min\": 6.041725538678912,\n        \"max\": 13.29442124950409,\n        \"num_unique_values\": 4,\n        \"samples\": [\n          9.891461349605331,\n          13.29442124950409,\n          6.041725538678912\n        ],\n        \"semantic_type\": \"\",\n        \"description\": \"\"\n      }\n    },\n    {\n      \"column\": \"depDelayStd\",\n      \"properties\": {\n        \"dtype\": \"number\",\n        \"std\": 9.555541987765954,\n        \"min\": 47.08709183343842,\n        \"max\": 67.31041482974422,\n        \"num_unique_values\": 4,\n        \"samples\": [\n          48.15401746098895,\n          67.31041482974422,\n          47.08709183343842\n        ],\n        \"semantic_type\": \"\",\n        \"description\": \"\"\n      }\n    },\n    {\n      \"column\": \"depDelayMedian\",\n      \"properties\": {\n        \"dtype\": \"number\",\n        \"std\": 0.9574271077563381,\n        \"min\": -4.0,\n        \"max\": -2.0,\n        \"num_unique_values\": 3,\n        \"samples\": [\n          -4.0,\n          -2.0,\n          -3.0\n        ],\n        \"semantic_type\": \"\",\n        \"description\": \"\"\n      }\n    }\n  ]\n}"
            }
          },
          "metadata": {},
          "execution_count": 54
        }
      ],
      "source": [
        "# Create carrierDelays DataFrame\n",
        "carrierDelays = flights.groupby('carrier').agg(\n",
        "    arrDelayMean=('arrDelay', 'mean'),\n",
        "    arrDelayStd=('arrDelay', 'std'),\n",
        "    arrDelayMedian=('arrDelay', 'median'),\n",
        "    depDelayMean=('depDelay', 'mean'),\n",
        "    depDelayStd=('depDelay', 'std'),\n",
        "    depDelayMedian=('depDelay', 'median')\n",
        ")\n",
        "\n",
        "# Rename carrier codes to airline names\n",
        "carrier_mapping = {\n",
        "    'UA': 'United Airlines',\n",
        "    'DL': 'Delta Airlines',\n",
        "    'OO': 'Skywest Airlines',\n",
        "    '9E': 'Endeavor Air'\n",
        "}\n",
        "carrierDelays['carrier'] = carrierDelays.index  # Add carrier column\n",
        "carrierDelays['carrier'] = carrierDelays['carrier'].map(carrier_mapping)  # Map codes to names\n",
        "carrierDelays = carrierDelays.set_index('carrier')  # Set carrier as index\n",
        "\n",
        "# Sort by increasing mean arrival delays\n",
        "carrierDelays = carrierDelays.sort_values(by='arrDelayMean')\n",
        "\n",
        "# Display the DataFrame\n",
        "carrierDelays"
      ]
    },
    {
      "cell_type": "code",
      "execution_count": null,
      "id": "866ef4ed",
      "metadata": {
        "deletable": false,
        "editable": false,
        "id": "866ef4ed"
      },
      "outputs": [],
      "source": [
        "grader.check(\"q4f\")"
      ]
    },
    {
      "cell_type": "markdown",
      "id": "064788d5-efda-45f7-a164-51c1893cc0c6",
      "metadata": {
        "deletable": false,
        "editable": false,
        "id": "064788d5-efda-45f7-a164-51c1893cc0c6"
      },
      "source": [
        "## Bonus\n",
        "\n",
        "Find the tail number of the top ten planes (identified by `tailNum`), with the worst departure delays (average delays).  You may find `drop_duplicates`, `agg`, and `sort_values` helpful.\n",
        "\n",
        "Consider only planes that have made at least 10 flights.\n",
        "\n",
        "Report out results in a DataFrame, `topDelayed`, the tail number `tailNum`, number of flights `num`, and the mean delay `mnDelay`."
      ]
    },
    {
      "cell_type": "code",
      "execution_count": 55,
      "id": "adb940c9-0b73-48e1-b64b-6b53008e3efc",
      "metadata": {
        "tags": [],
        "colab": {
          "base_uri": "https://localhost:8080/",
          "height": 363
        },
        "id": "adb940c9-0b73-48e1-b64b-6b53008e3efc",
        "outputId": "469bd802-fb5d-497c-dc53-c6f586546491"
      },
      "outputs": [
        {
          "output_type": "execute_result",
          "data": {
            "text/plain": [
              "  tailNum     mnDelay  num\n",
              "0  N507DZ  129.727273   11\n",
              "1  N670UA  117.727273   11\n",
              "2  N3730B  104.000000   16\n",
              "3  N67052   97.650000   20\n",
              "4  N510SY   94.202899   69\n",
              "5   N3752   85.800000   15\n",
              "6  N521DT   77.100000   10\n",
              "7  N377DA   76.357143   14\n",
              "8  N59053   75.071429   14\n",
              "9  N641UA   72.611111   36"
            ],
            "text/html": [
              "\n",
              "  <div id=\"df-cfc278d4-9b8a-4ab6-9fb1-850edd4d9e04\" class=\"colab-df-container\">\n",
              "    <div>\n",
              "<style scoped>\n",
              "    .dataframe tbody tr th:only-of-type {\n",
              "        vertical-align: middle;\n",
              "    }\n",
              "\n",
              "    .dataframe tbody tr th {\n",
              "        vertical-align: top;\n",
              "    }\n",
              "\n",
              "    .dataframe thead th {\n",
              "        text-align: right;\n",
              "    }\n",
              "</style>\n",
              "<table border=\"1\" class=\"dataframe\">\n",
              "  <thead>\n",
              "    <tr style=\"text-align: right;\">\n",
              "      <th></th>\n",
              "      <th>tailNum</th>\n",
              "      <th>mnDelay</th>\n",
              "      <th>num</th>\n",
              "    </tr>\n",
              "  </thead>\n",
              "  <tbody>\n",
              "    <tr>\n",
              "      <th>0</th>\n",
              "      <td>N507DZ</td>\n",
              "      <td>129.727273</td>\n",
              "      <td>11</td>\n",
              "    </tr>\n",
              "    <tr>\n",
              "      <th>1</th>\n",
              "      <td>N670UA</td>\n",
              "      <td>117.727273</td>\n",
              "      <td>11</td>\n",
              "    </tr>\n",
              "    <tr>\n",
              "      <th>2</th>\n",
              "      <td>N3730B</td>\n",
              "      <td>104.000000</td>\n",
              "      <td>16</td>\n",
              "    </tr>\n",
              "    <tr>\n",
              "      <th>3</th>\n",
              "      <td>N67052</td>\n",
              "      <td>97.650000</td>\n",
              "      <td>20</td>\n",
              "    </tr>\n",
              "    <tr>\n",
              "      <th>4</th>\n",
              "      <td>N510SY</td>\n",
              "      <td>94.202899</td>\n",
              "      <td>69</td>\n",
              "    </tr>\n",
              "    <tr>\n",
              "      <th>5</th>\n",
              "      <td>N3752</td>\n",
              "      <td>85.800000</td>\n",
              "      <td>15</td>\n",
              "    </tr>\n",
              "    <tr>\n",
              "      <th>6</th>\n",
              "      <td>N521DT</td>\n",
              "      <td>77.100000</td>\n",
              "      <td>10</td>\n",
              "    </tr>\n",
              "    <tr>\n",
              "      <th>7</th>\n",
              "      <td>N377DA</td>\n",
              "      <td>76.357143</td>\n",
              "      <td>14</td>\n",
              "    </tr>\n",
              "    <tr>\n",
              "      <th>8</th>\n",
              "      <td>N59053</td>\n",
              "      <td>75.071429</td>\n",
              "      <td>14</td>\n",
              "    </tr>\n",
              "    <tr>\n",
              "      <th>9</th>\n",
              "      <td>N641UA</td>\n",
              "      <td>72.611111</td>\n",
              "      <td>36</td>\n",
              "    </tr>\n",
              "  </tbody>\n",
              "</table>\n",
              "</div>\n",
              "    <div class=\"colab-df-buttons\">\n",
              "\n",
              "  <div class=\"colab-df-container\">\n",
              "    <button class=\"colab-df-convert\" onclick=\"convertToInteractive('df-cfc278d4-9b8a-4ab6-9fb1-850edd4d9e04')\"\n",
              "            title=\"Convert this dataframe to an interactive table.\"\n",
              "            style=\"display:none;\">\n",
              "\n",
              "  <svg xmlns=\"http://www.w3.org/2000/svg\" height=\"24px\" viewBox=\"0 -960 960 960\">\n",
              "    <path d=\"M120-120v-720h720v720H120Zm60-500h600v-160H180v160Zm220 220h160v-160H400v160Zm0 220h160v-160H400v160ZM180-400h160v-160H180v160Zm440 0h160v-160H620v160ZM180-180h160v-160H180v160Zm440 0h160v-160H620v160Z\"/>\n",
              "  </svg>\n",
              "    </button>\n",
              "\n",
              "  <style>\n",
              "    .colab-df-container {\n",
              "      display:flex;\n",
              "      gap: 12px;\n",
              "    }\n",
              "\n",
              "    .colab-df-convert {\n",
              "      background-color: #E8F0FE;\n",
              "      border: none;\n",
              "      border-radius: 50%;\n",
              "      cursor: pointer;\n",
              "      display: none;\n",
              "      fill: #1967D2;\n",
              "      height: 32px;\n",
              "      padding: 0 0 0 0;\n",
              "      width: 32px;\n",
              "    }\n",
              "\n",
              "    .colab-df-convert:hover {\n",
              "      background-color: #E2EBFA;\n",
              "      box-shadow: 0px 1px 2px rgba(60, 64, 67, 0.3), 0px 1px 3px 1px rgba(60, 64, 67, 0.15);\n",
              "      fill: #174EA6;\n",
              "    }\n",
              "\n",
              "    .colab-df-buttons div {\n",
              "      margin-bottom: 4px;\n",
              "    }\n",
              "\n",
              "    [theme=dark] .colab-df-convert {\n",
              "      background-color: #3B4455;\n",
              "      fill: #D2E3FC;\n",
              "    }\n",
              "\n",
              "    [theme=dark] .colab-df-convert:hover {\n",
              "      background-color: #434B5C;\n",
              "      box-shadow: 0px 1px 3px 1px rgba(0, 0, 0, 0.15);\n",
              "      filter: drop-shadow(0px 1px 2px rgba(0, 0, 0, 0.3));\n",
              "      fill: #FFFFFF;\n",
              "    }\n",
              "  </style>\n",
              "\n",
              "    <script>\n",
              "      const buttonEl =\n",
              "        document.querySelector('#df-cfc278d4-9b8a-4ab6-9fb1-850edd4d9e04 button.colab-df-convert');\n",
              "      buttonEl.style.display =\n",
              "        google.colab.kernel.accessAllowed ? 'block' : 'none';\n",
              "\n",
              "      async function convertToInteractive(key) {\n",
              "        const element = document.querySelector('#df-cfc278d4-9b8a-4ab6-9fb1-850edd4d9e04');\n",
              "        const dataTable =\n",
              "          await google.colab.kernel.invokeFunction('convertToInteractive',\n",
              "                                                    [key], {});\n",
              "        if (!dataTable) return;\n",
              "\n",
              "        const docLinkHtml = 'Like what you see? Visit the ' +\n",
              "          '<a target=\"_blank\" href=https://colab.research.google.com/notebooks/data_table.ipynb>data table notebook</a>'\n",
              "          + ' to learn more about interactive tables.';\n",
              "        element.innerHTML = '';\n",
              "        dataTable['output_type'] = 'display_data';\n",
              "        await google.colab.output.renderOutput(dataTable, element);\n",
              "        const docLink = document.createElement('div');\n",
              "        docLink.innerHTML = docLinkHtml;\n",
              "        element.appendChild(docLink);\n",
              "      }\n",
              "    </script>\n",
              "  </div>\n",
              "\n",
              "\n",
              "<div id=\"df-3cefa090-e1b7-4924-8723-958ab6470be2\">\n",
              "  <button class=\"colab-df-quickchart\" onclick=\"quickchart('df-3cefa090-e1b7-4924-8723-958ab6470be2')\"\n",
              "            title=\"Suggest charts\"\n",
              "            style=\"display:none;\">\n",
              "\n",
              "<svg xmlns=\"http://www.w3.org/2000/svg\" height=\"24px\"viewBox=\"0 0 24 24\"\n",
              "     width=\"24px\">\n",
              "    <g>\n",
              "        <path d=\"M19 3H5c-1.1 0-2 .9-2 2v14c0 1.1.9 2 2 2h14c1.1 0 2-.9 2-2V5c0-1.1-.9-2-2-2zM9 17H7v-7h2v7zm4 0h-2V7h2v10zm4 0h-2v-4h2v4z\"/>\n",
              "    </g>\n",
              "</svg>\n",
              "  </button>\n",
              "\n",
              "<style>\n",
              "  .colab-df-quickchart {\n",
              "      --bg-color: #E8F0FE;\n",
              "      --fill-color: #1967D2;\n",
              "      --hover-bg-color: #E2EBFA;\n",
              "      --hover-fill-color: #174EA6;\n",
              "      --disabled-fill-color: #AAA;\n",
              "      --disabled-bg-color: #DDD;\n",
              "  }\n",
              "\n",
              "  [theme=dark] .colab-df-quickchart {\n",
              "      --bg-color: #3B4455;\n",
              "      --fill-color: #D2E3FC;\n",
              "      --hover-bg-color: #434B5C;\n",
              "      --hover-fill-color: #FFFFFF;\n",
              "      --disabled-bg-color: #3B4455;\n",
              "      --disabled-fill-color: #666;\n",
              "  }\n",
              "\n",
              "  .colab-df-quickchart {\n",
              "    background-color: var(--bg-color);\n",
              "    border: none;\n",
              "    border-radius: 50%;\n",
              "    cursor: pointer;\n",
              "    display: none;\n",
              "    fill: var(--fill-color);\n",
              "    height: 32px;\n",
              "    padding: 0;\n",
              "    width: 32px;\n",
              "  }\n",
              "\n",
              "  .colab-df-quickchart:hover {\n",
              "    background-color: var(--hover-bg-color);\n",
              "    box-shadow: 0 1px 2px rgba(60, 64, 67, 0.3), 0 1px 3px 1px rgba(60, 64, 67, 0.15);\n",
              "    fill: var(--button-hover-fill-color);\n",
              "  }\n",
              "\n",
              "  .colab-df-quickchart-complete:disabled,\n",
              "  .colab-df-quickchart-complete:disabled:hover {\n",
              "    background-color: var(--disabled-bg-color);\n",
              "    fill: var(--disabled-fill-color);\n",
              "    box-shadow: none;\n",
              "  }\n",
              "\n",
              "  .colab-df-spinner {\n",
              "    border: 2px solid var(--fill-color);\n",
              "    border-color: transparent;\n",
              "    border-bottom-color: var(--fill-color);\n",
              "    animation:\n",
              "      spin 1s steps(1) infinite;\n",
              "  }\n",
              "\n",
              "  @keyframes spin {\n",
              "    0% {\n",
              "      border-color: transparent;\n",
              "      border-bottom-color: var(--fill-color);\n",
              "      border-left-color: var(--fill-color);\n",
              "    }\n",
              "    20% {\n",
              "      border-color: transparent;\n",
              "      border-left-color: var(--fill-color);\n",
              "      border-top-color: var(--fill-color);\n",
              "    }\n",
              "    30% {\n",
              "      border-color: transparent;\n",
              "      border-left-color: var(--fill-color);\n",
              "      border-top-color: var(--fill-color);\n",
              "      border-right-color: var(--fill-color);\n",
              "    }\n",
              "    40% {\n",
              "      border-color: transparent;\n",
              "      border-right-color: var(--fill-color);\n",
              "      border-top-color: var(--fill-color);\n",
              "    }\n",
              "    60% {\n",
              "      border-color: transparent;\n",
              "      border-right-color: var(--fill-color);\n",
              "    }\n",
              "    80% {\n",
              "      border-color: transparent;\n",
              "      border-right-color: var(--fill-color);\n",
              "      border-bottom-color: var(--fill-color);\n",
              "    }\n",
              "    90% {\n",
              "      border-color: transparent;\n",
              "      border-bottom-color: var(--fill-color);\n",
              "    }\n",
              "  }\n",
              "</style>\n",
              "\n",
              "  <script>\n",
              "    async function quickchart(key) {\n",
              "      const quickchartButtonEl =\n",
              "        document.querySelector('#' + key + ' button');\n",
              "      quickchartButtonEl.disabled = true;  // To prevent multiple clicks.\n",
              "      quickchartButtonEl.classList.add('colab-df-spinner');\n",
              "      try {\n",
              "        const charts = await google.colab.kernel.invokeFunction(\n",
              "            'suggestCharts', [key], {});\n",
              "      } catch (error) {\n",
              "        console.error('Error during call to suggestCharts:', error);\n",
              "      }\n",
              "      quickchartButtonEl.classList.remove('colab-df-spinner');\n",
              "      quickchartButtonEl.classList.add('colab-df-quickchart-complete');\n",
              "    }\n",
              "    (() => {\n",
              "      let quickchartButtonEl =\n",
              "        document.querySelector('#df-3cefa090-e1b7-4924-8723-958ab6470be2 button');\n",
              "      quickchartButtonEl.style.display =\n",
              "        google.colab.kernel.accessAllowed ? 'block' : 'none';\n",
              "    })();\n",
              "  </script>\n",
              "</div>\n",
              "\n",
              "  <div id=\"id_0d900e8b-c135-41e4-8c71-551e78ff132b\">\n",
              "    <style>\n",
              "      .colab-df-generate {\n",
              "        background-color: #E8F0FE;\n",
              "        border: none;\n",
              "        border-radius: 50%;\n",
              "        cursor: pointer;\n",
              "        display: none;\n",
              "        fill: #1967D2;\n",
              "        height: 32px;\n",
              "        padding: 0 0 0 0;\n",
              "        width: 32px;\n",
              "      }\n",
              "\n",
              "      .colab-df-generate:hover {\n",
              "        background-color: #E2EBFA;\n",
              "        box-shadow: 0px 1px 2px rgba(60, 64, 67, 0.3), 0px 1px 3px 1px rgba(60, 64, 67, 0.15);\n",
              "        fill: #174EA6;\n",
              "      }\n",
              "\n",
              "      [theme=dark] .colab-df-generate {\n",
              "        background-color: #3B4455;\n",
              "        fill: #D2E3FC;\n",
              "      }\n",
              "\n",
              "      [theme=dark] .colab-df-generate:hover {\n",
              "        background-color: #434B5C;\n",
              "        box-shadow: 0px 1px 3px 1px rgba(0, 0, 0, 0.15);\n",
              "        filter: drop-shadow(0px 1px 2px rgba(0, 0, 0, 0.3));\n",
              "        fill: #FFFFFF;\n",
              "      }\n",
              "    </style>\n",
              "    <button class=\"colab-df-generate\" onclick=\"generateWithVariable('topDelayed')\"\n",
              "            title=\"Generate code using this dataframe.\"\n",
              "            style=\"display:none;\">\n",
              "\n",
              "  <svg xmlns=\"http://www.w3.org/2000/svg\" height=\"24px\"viewBox=\"0 0 24 24\"\n",
              "       width=\"24px\">\n",
              "    <path d=\"M7,19H8.4L18.45,9,17,7.55,7,17.6ZM5,21V16.75L18.45,3.32a2,2,0,0,1,2.83,0l1.4,1.43a1.91,1.91,0,0,1,.58,1.4,1.91,1.91,0,0,1-.58,1.4L9.25,21ZM18.45,9,17,7.55Zm-12,3A5.31,5.31,0,0,0,4.9,8.1,5.31,5.31,0,0,0,1,6.5,5.31,5.31,0,0,0,4.9,4.9,5.31,5.31,0,0,0,6.5,1,5.31,5.31,0,0,0,8.1,4.9,5.31,5.31,0,0,0,12,6.5,5.46,5.46,0,0,0,6.5,12Z\"/>\n",
              "  </svg>\n",
              "    </button>\n",
              "    <script>\n",
              "      (() => {\n",
              "      const buttonEl =\n",
              "        document.querySelector('#id_0d900e8b-c135-41e4-8c71-551e78ff132b button.colab-df-generate');\n",
              "      buttonEl.style.display =\n",
              "        google.colab.kernel.accessAllowed ? 'block' : 'none';\n",
              "\n",
              "      buttonEl.onclick = () => {\n",
              "        google.colab.notebook.generateWithVariable('topDelayed');\n",
              "      }\n",
              "      })();\n",
              "    </script>\n",
              "  </div>\n",
              "\n",
              "    </div>\n",
              "  </div>\n"
            ],
            "application/vnd.google.colaboratory.intrinsic+json": {
              "type": "dataframe",
              "variable_name": "topDelayed",
              "summary": "{\n  \"name\": \"topDelayed\",\n  \"rows\": 10,\n  \"fields\": [\n    {\n      \"column\": \"tailNum\",\n      \"properties\": {\n        \"dtype\": \"string\",\n        \"num_unique_values\": 10,\n        \"samples\": [\n          \"N59053\",\n          \"N670UA\",\n          \"N3752\"\n        ],\n        \"semantic_type\": \"\",\n        \"description\": \"\"\n      }\n    },\n    {\n      \"column\": \"mnDelay\",\n      \"properties\": {\n        \"dtype\": \"number\",\n        \"std\": 19.502618324936112,\n        \"min\": 72.61111111111111,\n        \"max\": 129.72727272727272,\n        \"num_unique_values\": 10,\n        \"samples\": [\n          75.07142857142857,\n          117.72727272727273,\n          85.8\n        ],\n        \"semantic_type\": \"\",\n        \"description\": \"\"\n      }\n    },\n    {\n      \"column\": \"num\",\n      \"properties\": {\n        \"dtype\": \"number\",\n        \"std\": 18,\n        \"min\": 10,\n        \"max\": 69,\n        \"num_unique_values\": 8,\n        \"samples\": [\n          16,\n          10,\n          11\n        ],\n        \"semantic_type\": \"\",\n        \"description\": \"\"\n      }\n    }\n  ]\n}"
            }
          },
          "metadata": {},
          "execution_count": 55
        }
      ],
      "source": [
        "# Find the tail numbers of the planes with the worst mean dep. delays.\n",
        "# Store the tail number \"tailNum\", number of flights \"num\", and\n",
        "#   mean delay \"mnDelay\" in a DataFrame\n",
        "\n",
        "\n",
        "# Calculate mean departure delay and flight count for each tail number\n",
        "topDelayed = flights.groupby('tailNum')['depDelay'].agg(['mean', 'count'])\n",
        "\n",
        "# Rename columns for clarity\n",
        "topDelayed = topDelayed.rename(columns={'mean': 'mnDelay', 'count': 'num'})\n",
        "\n",
        "# Filter for planes with at least 10 flights\n",
        "topDelayed = topDelayed[topDelayed['num'] >= 10]\n",
        "\n",
        "# Sort by mean departure delay in descending order\n",
        "topDelayed = topDelayed.sort_values(by='mnDelay', ascending=False)\n",
        "\n",
        "# Reset index to access tailNum as a column\n",
        "topDelayed = topDelayed.reset_index()\n",
        "\n",
        "# Select the top 10 planes\n",
        "topDelayed = topDelayed.head(10)\n",
        "\n",
        "# Display the DataFrame\n",
        "topDelayed"
      ]
    },
    {
      "cell_type": "code",
      "execution_count": 56,
      "id": "5a7eb9b9",
      "metadata": {
        "deletable": false,
        "editable": false,
        "colab": {
          "base_uri": "https://localhost:8080/",
          "height": 141
        },
        "id": "5a7eb9b9",
        "outputId": "67123358-c703-4b2e-b159-380b8f0ec42e"
      },
      "outputs": [
        {
          "output_type": "error",
          "ename": "NameError",
          "evalue": "name 'grader' is not defined",
          "traceback": [
            "\u001b[0;31m---------------------------------------------------------------------------\u001b[0m",
            "\u001b[0;31mNameError\u001b[0m                                 Traceback (most recent call last)",
            "\u001b[0;32m<ipython-input-56-60a82dd19db8>\u001b[0m in \u001b[0;36m<cell line: 1>\u001b[0;34m()\u001b[0m\n\u001b[0;32m----> 1\u001b[0;31m \u001b[0mgrader\u001b[0m\u001b[0;34m.\u001b[0m\u001b[0mcheck\u001b[0m\u001b[0;34m(\u001b[0m\u001b[0;34m\"b1\"\u001b[0m\u001b[0;34m)\u001b[0m\u001b[0;34m\u001b[0m\u001b[0;34m\u001b[0m\u001b[0m\n\u001b[0m",
            "\u001b[0;31mNameError\u001b[0m: name 'grader' is not defined"
          ]
        }
      ],
      "source": [
        "grader.check(\"b1\")"
      ]
    },
    {
      "cell_type": "markdown",
      "id": "56d6994a-bbf5-4479-aa1e-674603e092f5",
      "metadata": {
        "id": "56d6994a-bbf5-4479-aa1e-674603e092f5"
      },
      "source": [
        "## Congratulations! You have finished P2!\n",
        "\n",
        "### Submission Instructions\n",
        "\n",
        "Below, you will see a cell. Running this cell will automatically generate a zip file with your autograded answers. Once you submit this file to the P2 assignment on Gradescope, Gradescope will automatically submit a PDF file with your some of your answers to the P2 - Figures assignment (making them easier to grade).\n",
        "\n",
        "**Important**: Please check that your responses were generated and submitted correctly to the P2 - Figures Assignment.\n",
        "\n",
        "**You are responsible for ensuring your submission follows our requirements and that the PDF for P2- Figures answers was generated/submitted correctly. We will not be granting regrade requests nor extensions to submissions that don't follow instructions.** If you encounter any difficulties with the submission, contact course staff well-ahead of the deadline.\n",
        "\n",
        "Make sure you have run all cells in your notebook **in order** before running the cell below, so that all images/graphs appear in the output. The cell below will generate a zip file for you to submit. **Please save before exporting!**"
      ]
    },
    {
      "cell_type": "markdown",
      "id": "38b5974b",
      "metadata": {
        "deletable": false,
        "editable": false,
        "id": "38b5974b"
      },
      "source": [
        "## Submission\n",
        "\n",
        "Make sure you have run all cells in your notebook in order before running the cell below, so that all images/graphs appear in the output. The cell below will generate a zip file for you to submit. **Please save before exporting!**"
      ]
    },
    {
      "cell_type": "code",
      "execution_count": null,
      "id": "b297c018",
      "metadata": {
        "deletable": false,
        "editable": false,
        "id": "b297c018"
      },
      "outputs": [],
      "source": [
        "# Save your notebook first, then run this cell to export your submission.\n",
        "grader.export()"
      ]
    },
    {
      "cell_type": "markdown",
      "id": "50507688",
      "metadata": {
        "id": "50507688"
      },
      "source": [
        ""
      ]
    }
  ],
  "metadata": {
    "kernelspec": {
      "display_name": "Python [conda env:un5550fa24]",
      "language": "python",
      "name": "conda-env-un5550fa24-py"
    },
    "language_info": {
      "codemirror_mode": {
        "name": "ipython",
        "version": 3
      },
      "file_extension": ".py",
      "mimetype": "text/x-python",
      "name": "python",
      "nbconvert_exporter": "python",
      "pygments_lexer": "ipython3",
      "version": "3.10.15"
    },
    "otter": {
      "OK_FORMAT": true,
      "assignment_name": "p2",
      "tests": {
        "b1": {
          "name": "b1",
          "points": [
            0.5,
            0.5,
            1
          ],
          "suites": [
            {
              "cases": [
                {
                  "code": ">>> type(topDelayed) == pd.core.frame.DataFrame\nTrue",
                  "hidden": false,
                  "locked": false
                },
                {
                  "code": ">>> topDelayed.shape == (2273, 3)\nTrue",
                  "hidden": false,
                  "locked": false
                },
                {
                  "code": ">>> all(topDelayed.columns == ['tailNum', 'num', 'mnDelay'])\nTrue",
                  "hidden": false,
                  "locked": false
                }
              ],
              "scored": true,
              "setup": "",
              "teardown": "",
              "type": "doctest"
            }
          ]
        },
        "q1": {
          "name": "q1",
          "points": [
            1,
            1,
            2,
            2
          ],
          "suites": [
            {
              "cases": [
                {
                  "code": ">>> flights.shape[0] == 919840\nTrue",
                  "hidden": false,
                  "locked": false
                },
                {
                  "code": ">>> flights.shape[1] == 16\nTrue",
                  "hidden": false,
                  "locked": false
                },
                {
                  "code": ">>> all(flights.columns == ['year', 'month', 'day', 'carrier', 'tailNum', 'flNum', 'origin', 'dest',\n...        'crsDepTime', 'actDepTime', 'depNextDay', 'crsArrTime', 'actArrTime',\n...        'arrNextDay', 'cancelled', 'diverted'])\nTrue",
                  "hidden": false,
                  "locked": false
                },
                {
                  "code": ">>> all(flights.iloc[48382:48387, 5] == [2602, 1693, 661, 1152, 1046])\nTrue",
                  "hidden": false,
                  "locked": false
                }
              ],
              "scored": true,
              "setup": "",
              "teardown": "",
              "type": "doctest"
            }
          ]
        },
        "q2a": {
          "name": "q2a",
          "points": [
            1,
            1
          ],
          "suites": [
            {
              "cases": [
                {
                  "code": ">>> num_divert == 1872\nTrue",
                  "hidden": false,
                  "locked": false
                },
                {
                  "code": ">>> num_cancel == 15264\nTrue",
                  "hidden": false,
                  "locked": false
                }
              ],
              "scored": true,
              "setup": "",
              "teardown": "",
              "type": "doctest"
            }
          ]
        },
        "q2b": {
          "name": "q2b",
          "points": [
            2,
            2
          ],
          "suites": [
            {
              "cases": [
                {
                  "code": ">>> flights.shape == (902704, 16)\nTrue",
                  "hidden": false,
                  "locked": false
                },
                {
                  "code": ">>> max(flights.index) == 902703\nTrue",
                  "hidden": false,
                  "locked": false
                }
              ],
              "scored": true,
              "setup": "",
              "teardown": "",
              "type": "doctest"
            }
          ]
        },
        "q2c": {
          "name": "q2c",
          "points": [
            1,
            1
          ],
          "suites": [
            {
              "cases": [
                {
                  "code": ">>> numArrDTW == 192689\nTrue",
                  "hidden": false,
                  "locked": false
                },
                {
                  "code": ">>> numDepDTW == 192578\nTrue",
                  "hidden": false,
                  "locked": false
                }
              ],
              "scored": true,
              "setup": "",
              "teardown": "",
              "type": "doctest"
            }
          ]
        },
        "q3a": {
          "name": "q3a",
          "points": 10,
          "suites": [
            {
              "cases": [
                {
                  "code": ">>> all(extract_hour(flights['actDepTime'][0:5]) == [19, 6, 14, 12, 19])\nTrue",
                  "hidden": false,
                  "locked": false
                },
                {
                  "code": ">>> all(extract_min(flights['actDepTime'][0:5]) == [15, 16, 1, 7, 58])\nTrue",
                  "hidden": false,
                  "locked": false
                },
                {
                  "code": ">>> all(extract_hour(flights['crsArrTime'][0:5]) == [19, 9, 16, 13, 20])\nTrue",
                  "hidden": false,
                  "locked": false
                }
              ],
              "scored": true,
              "setup": "",
              "teardown": "",
              "type": "doctest"
            }
          ]
        },
        "q3b": {
          "name": "q3b",
          "points": 4,
          "suites": [
            {
              "cases": [
                {
                  "code": ">>> convert_to_minutes(1303.0)==783\nTrue",
                  "hidden": false,
                  "locked": false
                },
                {
                  "code": ">>> convert_to_minutes(1524)==924\nTrue",
                  "hidden": false,
                  "locked": false
                },
                {
                  "code": ">>> all(convert_to_minutes(flights['actDepTime'][10:14]) == [953.0, 735.0, 1275.0, 1133.0])\nTrue",
                  "hidden": false,
                  "locked": false
                }
              ],
              "scored": true,
              "setup": "",
              "teardown": "",
              "type": "doctest"
            }
          ]
        },
        "q3c": {
          "name": "q3c",
          "points": 10,
          "suites": [
            {
              "cases": [
                {
                  "code": ">>> (calc_time_diff(pd.Series([2320.0]), pd.Series([37.0]), pd.Series([1])).iloc[0]==77.0) is np.True_\nTrue",
                  "hidden": false,
                  "locked": false
                },
                {
                  "code": ">>> (calc_time_diff(pd.Series([1303]), pd.Series([1305]), pd.Series([0])).iloc[0]==2) is np.True_\nTrue",
                  "hidden": false,
                  "locked": false
                }
              ],
              "scored": true,
              "setup": "",
              "teardown": "",
              "type": "doctest"
            }
          ]
        },
        "q4a": {
          "name": "q4a",
          "points": [
            0.5,
            0.5,
            0.5,
            0.5
          ],
          "suites": [
            {
              "cases": [
                {
                  "code": ">>> type(destDelays) == pd.core.frame.DataFrame and \\\n... type(originDelays) == pd.core.frame.DataFrame \nTrue",
                  "hidden": false,
                  "locked": false
                },
                {
                  "code": ">>> destDelays.columns.shape == (6,) and \\\n... originDelays.columns.shape == (6,)\nTrue",
                  "hidden": false,
                  "locked": false
                },
                {
                  "code": ">>> destDelays.columns[4] == ('depDelay', 'std') and \\\n... originDelays.columns[2] == ('arrDelay', 'median') and \\\n... destDelays.columns[0] == ('arrDelay', 'mean') and \\\n... originDelays.columns[5] == ('depDelay', 'median')\nTrue",
                  "hidden": false,
                  "locked": false
                },
                {
                  "code": ">>> all(destDelays.index == ['DTW', 'ORD']) and \\\n... all(destDelays.index == ['DTW', 'ORD'])\nTrue",
                  "hidden": false,
                  "locked": false
                }
              ],
              "scored": true,
              "setup": "",
              "teardown": "",
              "type": "doctest"
            }
          ]
        },
        "q4c": {
          "name": "q4c",
          "points": [
            1
          ],
          "suites": [
            {
              "cases": [
                {
                  "code": ">>> flights.shape == (902704, 20)\nTrue",
                  "hidden": false,
                  "locked": false
                }
              ],
              "scored": true,
              "setup": "",
              "teardown": "",
              "type": "doctest"
            }
          ]
        },
        "q4e": {
          "name": "q4e",
          "points": [
            1
          ],
          "suites": [
            {
              "cases": [
                {
                  "code": ">>> type(most_delay_routeA) == pd.core.series.Series and \\\n... type(most_delay_routeB) == pd.core.series.Series\nTrue",
                  "hidden": false,
                  "locked": false
                }
              ],
              "scored": true,
              "setup": "",
              "teardown": "",
              "type": "doctest"
            }
          ]
        },
        "q4f": {
          "name": "q4f",
          "points": [
            1,
            1
          ],
          "suites": [
            {
              "cases": [
                {
                  "code": ">>> carrierDelays.shape == (4,7)\nTrue",
                  "hidden": false,
                  "locked": false
                },
                {
                  "code": ">>> all(carrierDelays.columns == ['carrier', 'arrDelayMean', 'arrDelayStd', 'arrDelayMedian',\n...                               'depDelayMean', 'depDelayStd', 'depDelayMedian'])\nTrue",
                  "hidden": false,
                  "locked": false
                }
              ],
              "scored": true,
              "setup": "",
              "teardown": "",
              "type": "doctest"
            }
          ]
        }
      }
    },
    "colab": {
      "provenance": [],
      "include_colab_link": true
    }
  },
  "nbformat": 4,
  "nbformat_minor": 5
}